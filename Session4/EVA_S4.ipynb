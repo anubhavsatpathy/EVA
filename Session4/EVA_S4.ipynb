{
  "nbformat": 4,
  "nbformat_minor": 0,
  "metadata": {
    "colab": {
      "name": "EVA_S4.ipynb",
      "version": "0.3.2",
      "provenance": [],
      "include_colab_link": true
    },
    "kernelspec": {
      "name": "python3",
      "display_name": "Python 3"
    }
  },
  "cells": [
    {
      "cell_type": "markdown",
      "metadata": {
        "id": "view-in-github",
        "colab_type": "text"
      },
      "source": [
        "<a href=\"https://colab.research.google.com/github/anubhavsatpathy/EVA/blob/master/Session4/EVA_S4.ipynb\" target=\"_parent\"><img src=\"https://colab.research.google.com/assets/colab-badge.svg\" alt=\"Open In Colab\"/></a>"
      ]
    },
    {
      "cell_type": "markdown",
      "metadata": {
        "id": "KjFpDljvaVPQ",
        "colab_type": "text"
      },
      "source": [
        "###Network Diagnosis:\n",
        "\n",
        "This assignment, i believe is focused on helping us diagnose the issues with our neural network so that we can take appropriate measures to improve it's performance and efficiency on any given dataset"
      ]
    },
    {
      "cell_type": "markdown",
      "metadata": {
        "id": "-zwYI5Zea9-u",
        "colab_type": "text"
      },
      "source": [
        "###Installing Modules:\n",
        "\n",
        "In the code below, we install keras and tensorflow libraries to our python environment. The line of code *tf.logging.set_verbosity(tf.logging.ERROR)* does the job of disabling some of the warnings issued by the tensorflow backend\n",
        "\n"
      ]
    },
    {
      "cell_type": "code",
      "metadata": {
        "id": "w_1ZVn5-nXuN",
        "colab_type": "code",
        "colab": {
          "base_uri": "https://localhost:8080/",
          "height": 34
        },
        "outputId": "c476d0fc-d121-47e6-87ab-cfadc6bfb54a"
      },
      "source": [
        "!pip install -q keras\n",
        "import keras\n",
        "import tensorflow as tf\n",
        "\n",
        "tf.logging.set_verbosity(tf.logging.ERROR)\n"
      ],
      "execution_count": 1,
      "outputs": [
        {
          "output_type": "stream",
          "text": [
            "Using TensorFlow backend.\n"
          ],
          "name": "stderr"
        }
      ]
    },
    {
      "cell_type": "markdown",
      "metadata": {
        "id": "aAXM6ae4bdYm",
        "colab_type": "text"
      },
      "source": [
        "###Importing Modules:\n",
        "\n",
        "We utilize the code snippen below to import modules to our runtime so that we can use the interfaces exposed by these modules to write and adjust our CNN. We describe only a few modules below that we have not covered in previous assignments:\n",
        "\n",
        "- **ModelCheckpoint** : This is among the many callbacks provided by Keras that we can use while training our model. We will use this to store the best model weights so that we do not loose out on them by updations performed during subsequent epochs ([Documentation](https://keras.io/callbacks/))\n",
        "\n",
        "- **ImageDataGenerator** : This module helps us perform image augmentation which is a very strong regularization measure. We can use this to apply transformations like rotation, translation, random crop etc. on out training dataset before passing them on to the network ([Documentation](https://keras.io/preprocessing/image/))\n",
        "\n",
        "- **Dropout** : This a keras layer that implements dropouts. Dropouts are another regurarization mechanism that drop certain pixel values while training the model so that our model does not overfit to the training images ([Documentation](https://keras.io/layers/core/))"
      ]
    },
    {
      "cell_type": "code",
      "metadata": {
        "id": "E28Lp0E2nd_i",
        "colab_type": "code",
        "colab": {}
      },
      "source": [
        "import numpy as np\n",
        "\n",
        "from keras.models import Sequential\n",
        "from keras.layers import Dense, Dropout, Activation, Flatten, Add\n",
        "from keras.layers import BatchNormalization\n",
        "from keras.layers import Convolution2D, MaxPooling2D\n",
        "from keras.preprocessing.image import ImageDataGenerator\n",
        "from keras.utils import np_utils\n",
        "from keras.callbacks import ModelCheckpoint\n",
        "\n",
        "from keras.datasets import mnist\n",
        "\n",
        "from matplotlib import pyplot as plt\n",
        "%matplotlib inline"
      ],
      "execution_count": 0,
      "outputs": []
    },
    {
      "cell_type": "markdown",
      "metadata": {
        "id": "FV83ebpKdtwc",
        "colab_type": "text"
      },
      "source": [
        "###Hyper-Parameters\n",
        "\n",
        "Each machine learning model will have certain hyper-parameters like batch-size, input shape etc. that are essentially training invariants and are actually agnostic to the model at hand.\n",
        "\n",
        "To make it easier to iterate with changing these parameters - we usually define them at one place and keep referring to them. This is why we define the dictionary PARAMS in the code below"
      ]
    },
    {
      "cell_type": "code",
      "metadata": {
        "id": "3sZEPuR3opYR",
        "colab_type": "code",
        "colab": {}
      },
      "source": [
        "PARAMS = {\n",
        "    'INPUT_SHAPE' : (28,28,1),\n",
        "    'EPOCHS' : 10\n",
        "}"
      ],
      "execution_count": 0,
      "outputs": []
    },
    {
      "cell_type": "markdown",
      "metadata": {
        "id": "FwwMOkT4ePn0",
        "colab_type": "text"
      },
      "source": [
        "### Loading and Pre-Processing the Data:\n",
        "\n",
        "We have been doing these steps for the last two assignments and are now now quite familiar with what these steps do and why are they necessary. Hence - It becomes worthless to inflate our notebook by writing shapes and random images to the console\n",
        "\n",
        "This is why we wrap all of the data-loading and pre-processing code into a function called load_data() and call this in main() to load the data into our runtime variables *X_train, Y_train, X_test and Y_test*"
      ]
    },
    {
      "cell_type": "code",
      "metadata": {
        "id": "kxP-bUUJnuX5",
        "colab_type": "code",
        "colab": {
          "base_uri": "https://localhost:8080/",
          "height": 52
        },
        "outputId": "893f93b3-7315-4874-b260-30119ae7bd4b"
      },
      "source": [
        "def load_data():\n",
        "  (X_train, y_train), (X_test, y_test) = mnist.load_data()\n",
        "  X_train = X_train.reshape(X_train.shape[0], 28, 28,1)\n",
        "  X_test = X_test.reshape(X_test.shape[0], 28, 28,1)\n",
        "  X_train = X_train.astype('float32')\n",
        "  X_test = X_test.astype('float32')\n",
        "  X_train /= 255\n",
        "  X_test /= 255\n",
        "  Y_train = np_utils.to_categorical(y_train, 10)\n",
        "  Y_test = np_utils.to_categorical(y_test, 10)\n",
        "  return (X_train, Y_train),(X_test, Y_test)\n",
        "\n",
        "(X_train, Y_train),(X_test, Y_test) = load_data()"
      ],
      "execution_count": 4,
      "outputs": [
        {
          "output_type": "stream",
          "text": [
            "Downloading data from https://s3.amazonaws.com/img-datasets/mnist.npz\n",
            "11493376/11490434 [==============================] - 1s 0us/step\n"
          ],
          "name": "stdout"
        }
      ]
    },
    {
      "cell_type": "markdown",
      "metadata": {
        "id": "8IRvg6g1fCTX",
        "colab_type": "text"
      },
      "source": [
        "### Defining Our First Model:\n",
        "\n",
        "We were told to start with a vanilla model and so we have taken the model in the first notebook shared during the session as our starting point. \n",
        "\n",
        "Salient Features of the Model:\n",
        "\n",
        "- Over 68K parameters\n",
        "- 3 Conv Layers\n",
        "- Huge Kernel Sizes of 26 being used\n",
        "\n",
        "###What is CKPT?\n",
        "\n",
        "It is best to think of CKPT as a callback function that checks if the validation accuracy of the current model is better than the best model before this epoch and if so - it stores the weights in a hdf5 file format. \n",
        "\n",
        "*P.S : It isnt really a function - it is a class - Please read documentation to know more*\n",
        "\n",
        "###New signature for model.fit()\n",
        "\n",
        "- Turns out if we pass validation images and labels to *model.fit()* - it prints out the validation loss and accuracy after every epoch as well\n",
        "\n",
        "- We pass CKPT in callbacks because after each epoch, we want to see if the best validation accuracy is better than the last best and if so persist the weights\n",
        "\n",
        "###What to do with the saved weights?\n",
        "\n",
        "The benefit of saving the weights is that we do not loose them and if someone knows the architecture of our model - he/she can use this file to load our weights into their models and start training / predicting - this is what is used in transfer learning"
      ]
    },
    {
      "cell_type": "code",
      "metadata": {
        "id": "54M3PWtapPzf",
        "colab_type": "code",
        "colab": {
          "base_uri": "https://localhost:8080/",
          "height": 1000
        },
        "outputId": "4625a1ae-ddfa-4837-e4f8-08dfaafe4c2a"
      },
      "source": [
        "model = Sequential()\n",
        "\n",
        "# out_shape : [b_s, 26, 26, 32], GRF_of_activations : [3,3]\n",
        "model.add(Convolution2D(32, 3, 3, activation='relu', input_shape=PARAMS['INPUT_SHAPE']))\n",
        "# out_shape : [b_s, 26, 26, 10], GRF_of_activations : [3,3]\n",
        "model.add(Convolution2D(10, 1, activation='relu'))\n",
        "# out_shape : [b_s, 1, 1, 10], GRF_of_activations : [28,28] -- Kernel size of 26 increases GRF by 25 \n",
        "model.add(Convolution2D(10, 26))\n",
        "model.add(Flatten())\n",
        "model.add(Activation('softmax'))\n",
        "\n",
        "model.summary()\n",
        "model.compile(loss='categorical_crossentropy',\n",
        "             optimizer='adam',\n",
        "             metrics=['accuracy'])\n",
        "\n",
        "CKPT = ModelCheckpoint(filepath = 'best_of_first_iteration.hdf5', monitor='val_acc', verbose=0, save_best_only=True, save_weights_only=False, mode='max', period=1)\n",
        "\n",
        "H = model.fit(X_train, Y_train, batch_size=32, nb_epoch=PARAMS['EPOCHS'], verbose=1, callbacks = [CKPT], validation_data = (X_test,Y_test))\n",
        "\n",
        "model.load_weights('best_of_first_iteration.hdf5')\n",
        "score = model.evaluate(X_test, Y_test, verbose=0)\n",
        "\n",
        "print(\"Best Validation Accuracy : {}\".format(score[1]*100))\n",
        "\n",
        "acc_plot = plt.figure(1)\n",
        "plt.plot(H.history['acc'])\n",
        "plt.plot(H.history['val_acc'])\n",
        "plt.title(\"Accuracy Plot\")\n",
        "plt.legend(['train','test'], loc = 'upper left')\n",
        "\n",
        "loss_plot = plt.figure(2)\n",
        "plt.plot(H.history['loss'])\n",
        "plt.plot(H.history['val_loss'])\n",
        "plt.title(\"Loss Plot\")\n",
        "plt.legend(['train','test'], loc = 'upper left')\n",
        "\n",
        "plt.show()\n",
        "\n",
        "    "
      ],
      "execution_count": 5,
      "outputs": [
        {
          "output_type": "stream",
          "text": [
            "/usr/local/lib/python3.6/dist-packages/ipykernel_launcher.py:4: UserWarning: Update your `Conv2D` call to the Keras 2 API: `Conv2D(32, (3, 3), activation=\"relu\", input_shape=(28, 28, 1...)`\n",
            "  after removing the cwd from sys.path.\n",
            "/usr/local/lib/python3.6/dist-packages/ipykernel_launcher.py:19: UserWarning: The `nb_epoch` argument in `fit` has been renamed `epochs`.\n"
          ],
          "name": "stderr"
        },
        {
          "output_type": "stream",
          "text": [
            "_________________________________________________________________\n",
            "Layer (type)                 Output Shape              Param #   \n",
            "=================================================================\n",
            "conv2d_1 (Conv2D)            (None, 26, 26, 32)        320       \n",
            "_________________________________________________________________\n",
            "conv2d_2 (Conv2D)            (None, 26, 26, 10)        330       \n",
            "_________________________________________________________________\n",
            "conv2d_3 (Conv2D)            (None, 1, 1, 10)          67610     \n",
            "_________________________________________________________________\n",
            "flatten_1 (Flatten)          (None, 10)                0         \n",
            "_________________________________________________________________\n",
            "activation_1 (Activation)    (None, 10)                0         \n",
            "=================================================================\n",
            "Total params: 68,260\n",
            "Trainable params: 68,260\n",
            "Non-trainable params: 0\n",
            "_________________________________________________________________\n",
            "Train on 60000 samples, validate on 10000 samples\n",
            "Epoch 1/10\n",
            "60000/60000 [==============================] - 36s 598us/step - loss: 0.1979 - acc: 0.9432 - val_loss: 0.0825 - val_acc: 0.9748\n",
            "Epoch 2/10\n",
            "60000/60000 [==============================] - 35s 587us/step - loss: 0.0717 - acc: 0.9786 - val_loss: 0.0646 - val_acc: 0.9797\n",
            "Epoch 3/10\n",
            "60000/60000 [==============================] - 35s 586us/step - loss: 0.0556 - acc: 0.9827 - val_loss: 0.0772 - val_acc: 0.9762\n",
            "Epoch 4/10\n",
            "60000/60000 [==============================] - 35s 584us/step - loss: 0.0447 - acc: 0.9861 - val_loss: 0.0634 - val_acc: 0.9808\n",
            "Epoch 5/10\n",
            "60000/60000 [==============================] - 35s 591us/step - loss: 0.0363 - acc: 0.9886 - val_loss: 0.0642 - val_acc: 0.9816\n",
            "Epoch 6/10\n",
            "60000/60000 [==============================] - 35s 584us/step - loss: 0.0300 - acc: 0.9901 - val_loss: 0.0657 - val_acc: 0.9809\n",
            "Epoch 7/10\n",
            "60000/60000 [==============================] - 35s 591us/step - loss: 0.0237 - acc: 0.9923 - val_loss: 0.0683 - val_acc: 0.9813\n",
            "Epoch 8/10\n",
            "60000/60000 [==============================] - 36s 592us/step - loss: 0.0199 - acc: 0.9934 - val_loss: 0.0739 - val_acc: 0.9818\n",
            "Epoch 9/10\n",
            "60000/60000 [==============================] - 36s 594us/step - loss: 0.0158 - acc: 0.9949 - val_loss: 0.0866 - val_acc: 0.9801\n",
            "Epoch 10/10\n",
            "60000/60000 [==============================] - 36s 597us/step - loss: 0.0136 - acc: 0.9956 - val_loss: 0.0767 - val_acc: 0.9806\n",
            "Best Validation Accuracy : 98.18\n"
          ],
          "name": "stdout"
        },
        {
          "output_type": "display_data",
          "data": {
            "image/png": "[encoded data removed]",
            "text/plain": [
              "<Figure size 432x288 with 1 Axes>"
            ]
          },
          "metadata": {
            "tags": []
          }
        },
        {
          "output_type": "display_data",
          "data": {
            "image/png": "[encoded data removed]",
            "text/plain": [
              "<Figure size 432x288 with 1 Axes>"
            ]
          },
          "metadata": {
            "tags": []
          }
        }
      ]
    },
    {
      "cell_type": "markdown",
      "metadata": {
        "id": "4La5_01-4-TF",
        "colab_type": "text"
      },
      "source": [
        "###Diagnosing our first model:\n",
        "\n",
        "####Problems with the model\n",
        "\n",
        "- As can be seen from the plots above - our model started overfitting right after the 1st epoch\n",
        "- This is evident from the fact that both the validation loss and the validation accuracy start saturating at a plateaue as the training accuracy and loss keep moving in the same direction\n",
        "- Training Accuracy is 99.56 as well - so there isnt much scope left for improvement at all\n",
        "\n",
        "####Possible Causes:\n",
        "The possible causes of this overfitting may be:\n",
        "\n",
        "- Too many parameters in the network\n",
        "- A lack of any regularization model\n",
        "- Large size kernels \n",
        "\n",
        "Large size kernels mean more expressive power which means that the model will be able to overfit to the features of the training set that are simply peculiar by coincidence. The example of this is class is the BMW logo behind a frog\n",
        "\n",
        "####Prescription:\n",
        "- **Proper Model with less parameters and smaller kernels** : We know how a model should ideally look. We add convolution blocks with increasing number of output channels - then we add a bottlenech layer to collapse to smaller number of channels and then we add convolution blocks again and we repeat this till we acheive a GRF of the image. We do exactly this in the next model\n",
        "\n",
        "- **Batch Normalization** : Batch normalization is essentially a means of augmenting the input channels to a layer - This prevents a layer from learning peculiar color gradients prevalant in some classes and absent in others due to environmental and photographic conditions. Hence we add BN after ReLU after each convolution layer"
      ]
    },
    {
      "cell_type": "markdown",
      "metadata": {
        "id": "T0Llk6q3XKHQ",
        "colab_type": "text"
      },
      "source": [
        "###Defining our second model:\n",
        "\n",
        "A few salient features about our next model:\n",
        "\n",
        "- About 14K parameters\n",
        "- All 3x3 kernels for convolution\n",
        "- Pyramid structures with one bottleneck layer\n",
        "- Batch Normalization used for all convolution layers\n",
        "- GRF of 28x28 before flattening our the input\n",
        "\n",
        "###What are the improvements as per us?\n",
        "\n",
        "- Batch Normalization after Convolution to reduce pverfitting\n",
        "- Lesser Parameters and 3x3 kernels for to reduce overfitting\n",
        "\n",
        "We hope to be able to freeze our architecture moving forward"
      ]
    },
    {
      "cell_type": "code",
      "metadata": {
        "id": "RcsrM5F709oC",
        "colab_type": "code",
        "colab": {
          "base_uri": "https://localhost:8080/",
          "height": 1000
        },
        "outputId": "d13bfc91-8646-4e9c-f45e-77b7f0879abb"
      },
      "source": [
        "model = Sequential()\n",
        "\n",
        "# out_shape : [b_s, 26, 26, 8], GRF_of_activations : [3,3]\n",
        "model.add(Convolution2D(8, 3, 3, activation='relu', input_shape=PARAMS['INPUT_SHAPE']))#26\n",
        "model.add(BatchNormalization())\n",
        "# out_shape : [b_s, 24, 24, 16], GRF_of_activations : [5,5]\n",
        "model.add(Convolution2D(16, 3, 3, activation='relu'))#24\n",
        "model.add(BatchNormalization())\n",
        "# out_shape : [b_s, 22, 22, 24], GRF_of_activations : [7,7]\n",
        "model.add(Convolution2D(24,3,3, activation = 'relu'))#22\n",
        "model.add(BatchNormalization())\n",
        "\n",
        "# out_shape : [b_s, 11, 11, 24], GRF_of_activations : [8,8]\n",
        "model.add(MaxPooling2D(2,2))#11\n",
        "# out_shape : [b_s, 11, 11, 8], GRF_of_activations : [8,8]\n",
        "model.add(Convolution2D(8, 1, 1, activation = 'relu'))\n",
        "model.add(BatchNormalization())\n",
        "\n",
        "# out_shape : [b_s, 9, 9, 8], GRF_of_activations : [12,12]\n",
        "model.add(Convolution2D(8, 3, 3, activation = 'relu'))#9\n",
        "model.add(BatchNormalization())\n",
        "# out_shape : [b_s, 7, 7, 12], GRF_of_activations : [16,16]\n",
        "model.add(Convolution2D(12, 3, 3, activation = 'relu'))#7\n",
        "model.add(BatchNormalization())\n",
        "# out_shape : [b_s, 5, 5, 24], GRF_of_activations : [20,20]\n",
        "model.add(Convolution2D(24, 3, 3, activation = 'relu'))#5\n",
        "model.add(BatchNormalization())\n",
        "# out_shape : [b_s, 3, 3, 16], GRF_of_activations : 24,24]\n",
        "model.add(Convolution2D(16, 3, 3, activation = 'relu'))#3\n",
        "model.add(BatchNormalization())\n",
        "# out_shape : [b_s, 1, 1, 10], GRF_of_activations : 28,28]\n",
        "model.add(Convolution2D(10, 3, 3, activation = 'relu'))#1\n",
        "\n",
        "model.add(Flatten())\n",
        "model.add(Activation('softmax'))\n",
        "\n",
        "model.summary()\n",
        "\n",
        "model.compile(loss='categorical_crossentropy',\n",
        "             optimizer='adam',\n",
        "             metrics=['accuracy'])\n",
        "\n",
        "CKPT = ModelCheckpoint(filepath = 'best_of_second_iteration.hdf5', monitor='val_acc', verbose=0, save_best_only=True, save_weights_only=False, mode='max', period=1)\n",
        "\n",
        "H = model.fit(X_train, Y_train, batch_size=32, nb_epoch=PARAMS['EPOCHS'], verbose=1, callbacks = [CKPT], validation_data = (X_test,Y_test))\n",
        "\n",
        "model.load_weights('best_of_second_iteration.hdf5')\n",
        "score = model.evaluate(X_test, Y_test, verbose=0)\n",
        "\n",
        "print(\"Best Validation Accuracy : {}\".format(score[1]*100))\n",
        "\n",
        "plt.close(acc_plot)\n",
        "acc_plot = plt.figure(1)\n",
        "plt.plot(H.history['acc'])\n",
        "plt.plot(H.history['val_acc'])\n",
        "plt.title(\"Accuracy Plot\")\n",
        "plt.legend(['train','test'], loc = 'upper left')\n",
        "\n",
        "plt.close(loss_plot)\n",
        "loss_plot = plt.figure(2)\n",
        "plt.plot(H.history['loss'])\n",
        "plt.plot(H.history['val_loss'])\n",
        "plt.title(\"Loss Plot\")\n",
        "plt.legend(['train','test'], loc = 'upper left')\n",
        "\n",
        "plt.show()"
      ],
      "execution_count": 6,
      "outputs": [
        {
          "output_type": "stream",
          "text": [
            "/usr/local/lib/python3.6/dist-packages/ipykernel_launcher.py:4: UserWarning: Update your `Conv2D` call to the Keras 2 API: `Conv2D(8, (3, 3), activation=\"relu\", input_shape=(28, 28, 1...)`\n",
            "  after removing the cwd from sys.path.\n",
            "/usr/local/lib/python3.6/dist-packages/ipykernel_launcher.py:7: UserWarning: Update your `Conv2D` call to the Keras 2 API: `Conv2D(16, (3, 3), activation=\"relu\")`\n",
            "  import sys\n",
            "/usr/local/lib/python3.6/dist-packages/ipykernel_launcher.py:10: UserWarning: Update your `Conv2D` call to the Keras 2 API: `Conv2D(24, (3, 3), activation=\"relu\")`\n",
            "  # Remove the CWD from sys.path while we load stuff.\n",
            "/usr/local/lib/python3.6/dist-packages/ipykernel_launcher.py:16: UserWarning: Update your `Conv2D` call to the Keras 2 API: `Conv2D(8, (1, 1), activation=\"relu\")`\n",
            "  app.launch_new_instance()\n",
            "/usr/local/lib/python3.6/dist-packages/ipykernel_launcher.py:20: UserWarning: Update your `Conv2D` call to the Keras 2 API: `Conv2D(8, (3, 3), activation=\"relu\")`\n",
            "/usr/local/lib/python3.6/dist-packages/ipykernel_launcher.py:23: UserWarning: Update your `Conv2D` call to the Keras 2 API: `Conv2D(12, (3, 3), activation=\"relu\")`\n",
            "/usr/local/lib/python3.6/dist-packages/ipykernel_launcher.py:26: UserWarning: Update your `Conv2D` call to the Keras 2 API: `Conv2D(24, (3, 3), activation=\"relu\")`\n",
            "/usr/local/lib/python3.6/dist-packages/ipykernel_launcher.py:29: UserWarning: Update your `Conv2D` call to the Keras 2 API: `Conv2D(16, (3, 3), activation=\"relu\")`\n",
            "/usr/local/lib/python3.6/dist-packages/ipykernel_launcher.py:32: UserWarning: Update your `Conv2D` call to the Keras 2 API: `Conv2D(10, (3, 3), activation=\"relu\")`\n",
            "/usr/local/lib/python3.6/dist-packages/ipykernel_launcher.py:45: UserWarning: The `nb_epoch` argument in `fit` has been renamed `epochs`.\n"
          ],
          "name": "stderr"
        },
        {
          "output_type": "stream",
          "text": [
            "_________________________________________________________________\n",
            "Layer (type)                 Output Shape              Param #   \n",
            "=================================================================\n",
            "conv2d_4 (Conv2D)            (None, 26, 26, 8)         80        \n",
            "_________________________________________________________________\n",
            "batch_normalization_1 (Batch (None, 26, 26, 8)         32        \n",
            "_________________________________________________________________\n",
            "conv2d_5 (Conv2D)            (None, 24, 24, 16)        1168      \n",
            "_________________________________________________________________\n",
            "batch_normalization_2 (Batch (None, 24, 24, 16)        64        \n",
            "_________________________________________________________________\n",
            "conv2d_6 (Conv2D)            (None, 22, 22, 24)        3480      \n",
            "_________________________________________________________________\n",
            "batch_normalization_3 (Batch (None, 22, 22, 24)        96        \n",
            "_________________________________________________________________\n",
            "max_pooling2d_1 (MaxPooling2 (None, 11, 11, 24)        0         \n",
            "_________________________________________________________________\n",
            "conv2d_7 (Conv2D)            (None, 11, 11, 8)         200       \n",
            "_________________________________________________________________\n",
            "batch_normalization_4 (Batch (None, 11, 11, 8)         32        \n",
            "_________________________________________________________________\n",
            "conv2d_8 (Conv2D)            (None, 9, 9, 8)           584       \n",
            "_________________________________________________________________\n",
            "batch_normalization_5 (Batch (None, 9, 9, 8)           32        \n",
            "_________________________________________________________________\n",
            "conv2d_9 (Conv2D)            (None, 7, 7, 12)          876       \n",
            "_________________________________________________________________\n",
            "batch_normalization_6 (Batch (None, 7, 7, 12)          48        \n",
            "_________________________________________________________________\n",
            "conv2d_10 (Conv2D)           (None, 5, 5, 24)          2616      \n",
            "_________________________________________________________________\n",
            "batch_normalization_7 (Batch (None, 5, 5, 24)          96        \n",
            "_________________________________________________________________\n",
            "conv2d_11 (Conv2D)           (None, 3, 3, 16)          3472      \n",
            "_________________________________________________________________\n",
            "batch_normalization_8 (Batch (None, 3, 3, 16)          64        \n",
            "_________________________________________________________________\n",
            "conv2d_12 (Conv2D)           (None, 1, 1, 10)          1450      \n",
            "_________________________________________________________________\n",
            "flatten_2 (Flatten)          (None, 10)                0         \n",
            "_________________________________________________________________\n",
            "activation_2 (Activation)    (None, 10)                0         \n",
            "=================================================================\n",
            "Total params: 14,390\n",
            "Trainable params: 14,158\n",
            "Non-trainable params: 232\n",
            "_________________________________________________________________\n",
            "Train on 60000 samples, validate on 10000 samples\n",
            "Epoch 1/10\n",
            "60000/60000 [==============================] - 153s 3ms/step - loss: 0.1934 - acc: 0.9419 - val_loss: 0.0648 - val_acc: 0.9797\n",
            "Epoch 2/10\n",
            "60000/60000 [==============================] - 150s 3ms/step - loss: 0.0609 - acc: 0.9817 - val_loss: 0.0556 - val_acc: 0.9814\n",
            "Epoch 3/10\n",
            "60000/60000 [==============================] - 152s 3ms/step - loss: 0.0471 - acc: 0.9846 - val_loss: 0.0368 - val_acc: 0.9882\n",
            "Epoch 4/10\n",
            "60000/60000 [==============================] - 145s 2ms/step - loss: 0.0410 - acc: 0.9872 - val_loss: 0.0402 - val_acc: 0.9872\n",
            "Epoch 5/10\n",
            "60000/60000 [==============================] - 150s 2ms/step - loss: 0.0344 - acc: 0.9895 - val_loss: 0.0476 - val_acc: 0.9862\n",
            "Epoch 6/10\n",
            "60000/60000 [==============================] - 149s 2ms/step - loss: 0.0311 - acc: 0.9902 - val_loss: 0.0347 - val_acc: 0.9890\n",
            "Epoch 7/10\n",
            "60000/60000 [==============================] - 150s 2ms/step - loss: 0.0292 - acc: 0.9906 - val_loss: 0.0293 - val_acc: 0.9909\n",
            "Epoch 8/10\n",
            "60000/60000 [==============================] - 151s 3ms/step - loss: 0.0258 - acc: 0.9921 - val_loss: 0.0367 - val_acc: 0.9894\n",
            "Epoch 9/10\n",
            "60000/60000 [==============================] - 150s 3ms/step - loss: 0.0230 - acc: 0.9921 - val_loss: 0.0416 - val_acc: 0.9875\n",
            "Epoch 10/10\n",
            "60000/60000 [==============================] - 150s 2ms/step - loss: 0.0216 - acc: 0.9929 - val_loss: 0.0267 - val_acc: 0.9909\n",
            "Best Validation Accuracy : 99.09\n"
          ],
          "name": "stdout"
        },
        {
          "output_type": "display_data",
          "data": {
            "image/png": "[encoded data removed]",
            "text/plain": [
              "<Figure size 432x288 with 1 Axes>"
            ]
          },
          "metadata": {
            "tags": []
          }
        },
        {
          "output_type": "display_data",
          "data": {
            "image/png": "[encoded data removed]",
            "text/plain": [
              "<Figure size 432x288 with 1 Axes>"
            ]
          },
          "metadata": {
            "tags": []
          }
        }
      ]
    },
    {
      "cell_type": "markdown",
      "metadata": {
        "id": "Ou2RGwkUYNbs",
        "colab_type": "text"
      },
      "source": [
        "###Diagnosing our second model:\n",
        "\n",
        "####What Improved?\n",
        "\n",
        "- Overfitting surely improved\n",
        "- The gap between the scores are now only 0.20 measured in %\n",
        "\n",
        "####Problems with this network\n",
        "- Best training accuracy reached was 99.29% only \n",
        "- The graphs clearly show overfitting setting in after the second epoch - much slower and smaller than our first model but still enough to reckon with\n",
        "\n",
        "####Possible Causes\n",
        "- Lack of stronger regularization measures like Dropouts\n",
        "- Lack of more training data\n",
        "\n",
        "####Prescription\n",
        "- Since we are creating overfitting first - let's add dropout first \n",
        "- Learning rate decay\n",
        "- Image Augmentation"
      ]
    },
    {
      "cell_type": "markdown",
      "metadata": {
        "id": "guV7ywRUZ2gB",
        "colab_type": "text"
      },
      "source": [
        "###Defining our third model:\n",
        "\n",
        "A few salient features about our next model:\n",
        "\n",
        "- About 14K parameters\n",
        "- All 3x3 kernels for convolution\n",
        "- Pyramid structures with one bottleneck layer\n",
        "- Batch Normalization used for all convolution layers\n",
        "- GRF of 28x28 before flattening our the input\n",
        "- Dropout \n",
        "\n",
        "###What are the improvements as per us?\n",
        "\n",
        "- We add dropout after every convolution layer except the last layer - We do this because we are not sure exactly which layer is responsible for this overfitting\n",
        "\n",
        "We hope to be able to freeze our architecture moving forward\n"
      ]
    },
    {
      "cell_type": "code",
      "metadata": {
        "id": "XHb6b7zeAkGo",
        "colab_type": "code",
        "colab": {
          "base_uri": "https://localhost:8080/",
          "height": 1000
        },
        "outputId": "0d464e6b-1fbd-4cd6-b965-ea466a1ed79f"
      },
      "source": [
        "model = Sequential()\n",
        "\n",
        "#out_shape : [b_s, 26, 26, 8], GRF_of_activations : [3,3]\n",
        "model.add(Convolution2D(8, 3, 3, activation='relu', input_shape=PARAMS['INPUT_SHAPE']))#26\n",
        "model.add(BatchNormalization())\n",
        "model.add(Dropout(0.05))\n",
        "\n",
        "#out_shape : [b_s, 24, 24, 16], GRF_of_activations : [5,5]\n",
        "model.add(Convolution2D(16, 3, 3, activation='relu'))#24\n",
        "model.add(BatchNormalization())\n",
        "model.add(Dropout(0.05))\n",
        "\n",
        "# out_shape : [b_s, 22, 22, 24], GRF_of_activations : [7,7]\n",
        "model.add(Convolution2D(24,3,3, activation = 'relu'))#22\n",
        "model.add(BatchNormalization())\n",
        "model.add(Dropout(0.05))\n",
        "\n",
        "# out_shape : [b_s, 11, 11, 24], GRF_of_activations : [8,8]\n",
        "model.add(MaxPooling2D(2,2))#11\n",
        "# out_shape : [b_s, 11, 11, 8], GRF_of_activations : [8,8]\n",
        "model.add(Convolution2D(8, 1, 1, activation = 'relu'))\n",
        "model.add(BatchNormalization())\n",
        "model.add(Dropout(0.05))\n",
        "\n",
        "# out_shape : [b_s, 9, 9, 8], GRF_of_activations : [12,12]\n",
        "model.add(Convolution2D(8, 3, 3, activation = 'relu'))#9\n",
        "model.add(BatchNormalization())\n",
        "model.add(Dropout(0.05))\n",
        "\n",
        "# out_shape : [b_s, 7, 7, 12], GRF_of_activations : [16,16]\n",
        "model.add(Convolution2D(12, 3, 3, activation = 'relu'))#7\n",
        "model.add(BatchNormalization())\n",
        "model.add(Dropout(0.05))\n",
        "\n",
        "# out_shape : [b_s, 5, 5, 24], GRF_of_activations : [20,20]\n",
        "model.add(Convolution2D(24, 3, 3, activation = 'relu'))#5\n",
        "model.add(BatchNormalization())\n",
        "model.add(Dropout(0.05))\n",
        "\n",
        "# out_shape : [b_s, 3, 3, 10], GRF_of_activations : [24,24]\n",
        "model.add(Convolution2D(16, 3, 3, activation = 'relu'))#3\n",
        "model.add(BatchNormalization())\n",
        "model.add(Dropout(0.05))\n",
        "\n",
        "# out_shape : [b_s, 1, 1, 10], GRF_of_activations : [28,28]\n",
        "model.add(Convolution2D(10, 3, 3, activation = 'relu'))#1\n",
        "\n",
        "model.add(Flatten())\n",
        "model.add(Activation('softmax'))\n",
        "\n",
        "model.summary()\n",
        "\n",
        "model.compile(loss='categorical_crossentropy',\n",
        "             optimizer='adam',\n",
        "             metrics=['accuracy'])\n",
        "\n",
        "CKPT = ModelCheckpoint(filepath = 'best_of_third_iteration.hdf5', monitor='val_acc', verbose=0, save_best_only=True, save_weights_only=False, mode='max', period=1)\n",
        "\n",
        "H = model.fit(X_train, Y_train, batch_size=32, nb_epoch=PARAMS['EPOCHS'], verbose=1, callbacks = [CKPT], validation_data = (X_test,Y_test))\n",
        "\n",
        "model.load_weights('best_of_third_iteration.hdf5')\n",
        "score = model.evaluate(X_test, Y_test, verbose=0)\n",
        "\n",
        "print(\"Best Validation Accuracy : {}\".format(score[1]*100))\n",
        "\n",
        "plt.close(acc_plot)\n",
        "acc_plot = plt.figure(1)\n",
        "plt.plot(H.history['acc'])\n",
        "plt.plot(H.history['val_acc'])\n",
        "plt.title(\"Accuracy Plot\")\n",
        "plt.legend(['train','test'], loc = 'upper left')\n",
        "\n",
        "plt.close(loss_plot)\n",
        "loss_plot = plt.figure(2)\n",
        "plt.plot(H.history['loss'])\n",
        "plt.plot(H.history['val_loss'])\n",
        "plt.title(\"Loss Plot\")\n",
        "plt.legend(['train','test'], loc = 'upper left')\n",
        "\n",
        "plt.show()\n"
      ],
      "execution_count": 7,
      "outputs": [
        {
          "output_type": "stream",
          "text": [
            "/usr/local/lib/python3.6/dist-packages/ipykernel_launcher.py:4: UserWarning: Update your `Conv2D` call to the Keras 2 API: `Conv2D(8, (3, 3), activation=\"relu\", input_shape=(28, 28, 1...)`\n",
            "  after removing the cwd from sys.path.\n",
            "/usr/local/lib/python3.6/dist-packages/ipykernel_launcher.py:9: UserWarning: Update your `Conv2D` call to the Keras 2 API: `Conv2D(16, (3, 3), activation=\"relu\")`\n",
            "  if __name__ == '__main__':\n",
            "/usr/local/lib/python3.6/dist-packages/ipykernel_launcher.py:14: UserWarning: Update your `Conv2D` call to the Keras 2 API: `Conv2D(24, (3, 3), activation=\"relu\")`\n",
            "  \n",
            "/usr/local/lib/python3.6/dist-packages/ipykernel_launcher.py:21: UserWarning: Update your `Conv2D` call to the Keras 2 API: `Conv2D(8, (1, 1), activation=\"relu\")`\n",
            "/usr/local/lib/python3.6/dist-packages/ipykernel_launcher.py:26: UserWarning: Update your `Conv2D` call to the Keras 2 API: `Conv2D(8, (3, 3), activation=\"relu\")`\n",
            "/usr/local/lib/python3.6/dist-packages/ipykernel_launcher.py:31: UserWarning: Update your `Conv2D` call to the Keras 2 API: `Conv2D(12, (3, 3), activation=\"relu\")`\n",
            "/usr/local/lib/python3.6/dist-packages/ipykernel_launcher.py:36: UserWarning: Update your `Conv2D` call to the Keras 2 API: `Conv2D(24, (3, 3), activation=\"relu\")`\n",
            "/usr/local/lib/python3.6/dist-packages/ipykernel_launcher.py:41: UserWarning: Update your `Conv2D` call to the Keras 2 API: `Conv2D(16, (3, 3), activation=\"relu\")`\n",
            "/usr/local/lib/python3.6/dist-packages/ipykernel_launcher.py:46: UserWarning: Update your `Conv2D` call to the Keras 2 API: `Conv2D(10, (3, 3), activation=\"relu\")`\n",
            "/usr/local/lib/python3.6/dist-packages/ipykernel_launcher.py:59: UserWarning: The `nb_epoch` argument in `fit` has been renamed `epochs`.\n"
          ],
          "name": "stderr"
        },
        {
          "output_type": "stream",
          "text": [
            "_________________________________________________________________\n",
            "Layer (type)                 Output Shape              Param #   \n",
            "=================================================================\n",
            "conv2d_13 (Conv2D)           (None, 26, 26, 8)         80        \n",
            "_________________________________________________________________\n",
            "batch_normalization_9 (Batch (None, 26, 26, 8)         32        \n",
            "_________________________________________________________________\n",
            "dropout_1 (Dropout)          (None, 26, 26, 8)         0         \n",
            "_________________________________________________________________\n",
            "conv2d_14 (Conv2D)           (None, 24, 24, 16)        1168      \n",
            "_________________________________________________________________\n",
            "batch_normalization_10 (Batc (None, 24, 24, 16)        64        \n",
            "_________________________________________________________________\n",
            "dropout_2 (Dropout)          (None, 24, 24, 16)        0         \n",
            "_________________________________________________________________\n",
            "conv2d_15 (Conv2D)           (None, 22, 22, 24)        3480      \n",
            "_________________________________________________________________\n",
            "batch_normalization_11 (Batc (None, 22, 22, 24)        96        \n",
            "_________________________________________________________________\n",
            "dropout_3 (Dropout)          (None, 22, 22, 24)        0         \n",
            "_________________________________________________________________\n",
            "max_pooling2d_2 (MaxPooling2 (None, 11, 11, 24)        0         \n",
            "_________________________________________________________________\n",
            "conv2d_16 (Conv2D)           (None, 11, 11, 8)         200       \n",
            "_________________________________________________________________\n",
            "batch_normalization_12 (Batc (None, 11, 11, 8)         32        \n",
            "_________________________________________________________________\n",
            "dropout_4 (Dropout)          (None, 11, 11, 8)         0         \n",
            "_________________________________________________________________\n",
            "conv2d_17 (Conv2D)           (None, 9, 9, 8)           584       \n",
            "_________________________________________________________________\n",
            "batch_normalization_13 (Batc (None, 9, 9, 8)           32        \n",
            "_________________________________________________________________\n",
            "dropout_5 (Dropout)          (None, 9, 9, 8)           0         \n",
            "_________________________________________________________________\n",
            "conv2d_18 (Conv2D)           (None, 7, 7, 12)          876       \n",
            "_________________________________________________________________\n",
            "batch_normalization_14 (Batc (None, 7, 7, 12)          48        \n",
            "_________________________________________________________________\n",
            "dropout_6 (Dropout)          (None, 7, 7, 12)          0         \n",
            "_________________________________________________________________\n",
            "conv2d_19 (Conv2D)           (None, 5, 5, 24)          2616      \n",
            "_________________________________________________________________\n",
            "batch_normalization_15 (Batc (None, 5, 5, 24)          96        \n",
            "_________________________________________________________________\n",
            "dropout_7 (Dropout)          (None, 5, 5, 24)          0         \n",
            "_________________________________________________________________\n",
            "conv2d_20 (Conv2D)           (None, 3, 3, 16)          3472      \n",
            "_________________________________________________________________\n",
            "batch_normalization_16 (Batc (None, 3, 3, 16)          64        \n",
            "_________________________________________________________________\n",
            "dropout_8 (Dropout)          (None, 3, 3, 16)          0         \n",
            "_________________________________________________________________\n",
            "conv2d_21 (Conv2D)           (None, 1, 1, 10)          1450      \n",
            "_________________________________________________________________\n",
            "flatten_3 (Flatten)          (None, 10)                0         \n",
            "_________________________________________________________________\n",
            "activation_3 (Activation)    (None, 10)                0         \n",
            "=================================================================\n",
            "Total params: 14,390\n",
            "Trainable params: 14,158\n",
            "Non-trainable params: 232\n",
            "_________________________________________________________________\n",
            "Train on 60000 samples, validate on 10000 samples\n",
            "Epoch 1/10\n",
            "60000/60000 [==============================] - 173s 3ms/step - loss: 0.2607 - acc: 0.9189 - val_loss: 0.0639 - val_acc: 0.9800\n",
            "Epoch 2/10\n",
            "60000/60000 [==============================] - 172s 3ms/step - loss: 0.0781 - acc: 0.9759 - val_loss: 0.0419 - val_acc: 0.9863\n",
            "Epoch 3/10\n",
            "60000/60000 [==============================] - 175s 3ms/step - loss: 0.0585 - acc: 0.9815 - val_loss: 0.0353 - val_acc: 0.9892\n",
            "Epoch 4/10\n",
            "60000/60000 [==============================] - 172s 3ms/step - loss: 0.0526 - acc: 0.9843 - val_loss: 0.0327 - val_acc: 0.9891\n",
            "Epoch 5/10\n",
            "60000/60000 [==============================] - 173s 3ms/step - loss: 0.0468 - acc: 0.9861 - val_loss: 0.0333 - val_acc: 0.9879\n",
            "Epoch 6/10\n",
            "60000/60000 [==============================] - 172s 3ms/step - loss: 0.0430 - acc: 0.9866 - val_loss: 0.0332 - val_acc: 0.9886\n",
            "Epoch 7/10\n",
            "60000/60000 [==============================] - 172s 3ms/step - loss: 0.0395 - acc: 0.9879 - val_loss: 0.0292 - val_acc: 0.9909\n",
            "Epoch 8/10\n",
            "60000/60000 [==============================] - 171s 3ms/step - loss: 0.0373 - acc: 0.9883 - val_loss: 0.0249 - val_acc: 0.9914\n",
            "Epoch 9/10\n",
            "60000/60000 [==============================] - 170s 3ms/step - loss: 0.0357 - acc: 0.9887 - val_loss: 0.0500 - val_acc: 0.9851\n",
            "Epoch 10/10\n",
            "60000/60000 [==============================] - 169s 3ms/step - loss: 0.0333 - acc: 0.9899 - val_loss: 0.0237 - val_acc: 0.9926\n",
            "Best Validation Accuracy : 99.26\n"
          ],
          "name": "stdout"
        },
        {
          "output_type": "display_data",
          "data": {
            "image/png": "[encoded data removed]",
            "text/plain": [
              "<Figure size 432x288 with 1 Axes>"
            ]
          },
          "metadata": {
            "tags": []
          }
        },
        {
          "output_type": "display_data",
          "data": {
            "image/png": "[encoded data removed]",
            "text/plain": [
              "<Figure size 432x288 with 1 Axes>"
            ]
          },
          "metadata": {
            "tags": []
          }
        }
      ]
    },
    {
      "cell_type": "markdown",
      "metadata": {
        "id": "YYua-sUtomSz",
        "colab_type": "text"
      },
      "source": [
        "###Diagnosing our third model:\n",
        "\n",
        "####What Improved?\n",
        "\n",
        "- Overfitting solved - as can be seen - our validation accuracies more or less outperforms out training accuracy\n",
        "- We got a validation accuracy of 99.26 and a training accuracy of 98.99 - which means there is ample scope of growth\n",
        "- This raise in validation accuracy is seen since dropouts are used while training and ignored while testing - thus not letting the network overfit the training data\n",
        "\n",
        "####Problems with this network\n",
        "- Our training accuracy fell to around 98.9%\n",
        "- Validation accuracy is still less than 99.4%\n",
        "\n",
        "####Possible Causes\n",
        "- Lack of more training data\n",
        "\n",
        "####Prescription\n",
        "- Augment the incoming data to create more training data \n",
        "- Train using a larger batch size "
      ]
    },
    {
      "cell_type": "markdown",
      "metadata": {
        "id": "citLSf_81SEt",
        "colab_type": "text"
      },
      "source": [
        "###Defining our fourth model:\n",
        "\n",
        "A few salient features about our next model:\n",
        "\n",
        "- About 14K parameters\n",
        "- All 3x3 kernels for convolution\n",
        "- Pyramid structures with one bottleneck layer\n",
        "- Batch Normalization used for all convolution layers\n",
        "- GRF of 28x28 before flattening our the input\n",
        "- Dropout \n",
        "- Data Augmentation\n",
        "\n",
        "###What are the improvements as per us?\n",
        "\n",
        "- We randomly rotate, zoom, and shift our images horizontaly and vertically before passing them through the network\n",
        "- We Increase the batch size to 64 for faster training\n",
        "- We perform 6000 steps per epoch which means a training size of around 400K\n",
        "\n",
        "We hope to be able to freeze our architecture moving forward\n"
      ]
    },
    {
      "cell_type": "code",
      "metadata": {
        "id": "cYz8fc2OJrY8",
        "colab_type": "code",
        "colab": {
          "base_uri": "https://localhost:8080/",
          "height": 1000
        },
        "outputId": "5fe77350-42f1-4569-8811-55003e2eab88"
      },
      "source": [
        "datagen = ImageDataGenerator(rotation_range=10,  \n",
        "                             zoom_range = 0.10,  \n",
        "                             width_shift_range=0.1, \n",
        "                             height_shift_range=0.1)\n",
        "data_iter = datagen.flow(X_train,Y_train, batch_size = 64)\n",
        "\n",
        "model = Sequential()\n",
        "\n",
        "#out_shape : [b_s, 26, 26, 8], GRF_of_activations : [3,3]\n",
        "model.add(Convolution2D(8, 3, 3, activation='relu', input_shape=PARAMS['INPUT_SHAPE']))#26\n",
        "model.add(BatchNormalization())\n",
        "model.add(Dropout(0.05))\n",
        "\n",
        "#out_shape : [b_s, 24, 24, 16], GRF_of_activations : [5,5]\n",
        "model.add(Convolution2D(16, 3, 3, activation='relu'))#24\n",
        "model.add(BatchNormalization())\n",
        "model.add(Dropout(0.05))\n",
        "\n",
        "# out_shape : [b_s, 22, 22, 24], GRF_of_activations : [7,7]\n",
        "model.add(Convolution2D(24,3,3, activation = 'relu'))#22\n",
        "model.add(BatchNormalization())\n",
        "model.add(Dropout(0.05))\n",
        "\n",
        "# out_shape : [b_s, 11, 11, 24], GRF_of_activations : [8,8]\n",
        "model.add(MaxPooling2D(2,2))#11\n",
        "# out_shape : [b_s, 11, 11, 8], GRF_of_activations : [8,8]\n",
        "model.add(Convolution2D(8, 1, 1, activation = 'relu'))\n",
        "model.add(BatchNormalization())\n",
        "model.add(Dropout(0.05))\n",
        "\n",
        "# out_shape : [b_s, 9, 9, 8], GRF_of_activations : [12,12]\n",
        "model.add(Convolution2D(8, 3, 3, activation = 'relu'))#9\n",
        "model.add(BatchNormalization())\n",
        "model.add(Dropout(0.05))\n",
        "\n",
        "# out_shape : [b_s, 7, 7, 12], GRF_of_activations : [16,16]\n",
        "model.add(Convolution2D(12, 3, 3, activation = 'relu'))#7\n",
        "model.add(BatchNormalization())\n",
        "model.add(Dropout(0.05))\n",
        "\n",
        "# out_shape : [b_s, 5, 5, 24], GRF_of_activations : [20,20]\n",
        "model.add(Convolution2D(24, 3, 3, activation = 'relu'))#5\n",
        "model.add(BatchNormalization())\n",
        "model.add(Dropout(0.05))\n",
        "\n",
        "# out_shape : [b_s, 3, 3, 10], GRF_of_activations : [24,24]\n",
        "model.add(Convolution2D(16, 3, 3, activation = 'relu'))#3\n",
        "model.add(BatchNormalization())\n",
        "model.add(Dropout(0.05))\n",
        "\n",
        "# out_shape : [b_s, 1, 1, 10], GRF_of_activations : [28,28]\n",
        "model.add(Convolution2D(10, 3, 3, activation = 'relu'))#1\n",
        "\n",
        "model.add(Flatten())\n",
        "model.add(Activation('softmax'))\n",
        "\n",
        "\n",
        "model.summary()\n",
        "\n",
        "model.compile(loss='categorical_crossentropy',\n",
        "             optimizer='adam',\n",
        "             metrics=['accuracy'])\n",
        "\n",
        "CKPT = ModelCheckpoint(filepath = 'best_of_fourth_iteration.hdf5', monitor='val_acc', verbose=0, save_best_only=True, save_weights_only=False, mode='max', period=1)\n",
        "\n",
        "H = model.fit_generator(data_iter, steps_per_epoch = 6000, epochs = 10, callbacks = [CKPT], validation_data = (X_test,Y_test))\n",
        "model.load_weights('best_of_fourth_iteration.hdf5')\n",
        "score = model.evaluate(X_test, Y_test, verbose=0)\n",
        "\n",
        "print(\"Best Validation Accuracy : {}\".format(score[1]*100))\n",
        "\n",
        "plt.close(acc_plot)\n",
        "acc_plot = plt.figure(1)\n",
        "plt.plot(H.history['acc'])\n",
        "plt.plot(H.history['val_acc'])\n",
        "plt.title(\"Accuracy Plot\")\n",
        "plt.legend(['train','test'], loc = 'upper left')\n",
        "\n",
        "plt.close(loss_plot)\n",
        "loss_plot = plt.figure(2)\n",
        "plt.plot(H.history['loss'])\n",
        "plt.plot(H.history['val_loss'])\n",
        "plt.title(\"Loss Plot\")\n",
        "plt.legend(['train','test'], loc = 'upper left')\n",
        "\n",
        "plt.show()"
      ],
      "execution_count": 6,
      "outputs": [
        {
          "output_type": "stream",
          "text": [
            "/usr/local/lib/python3.6/dist-packages/ipykernel_launcher.py:10: UserWarning: Update your `Conv2D` call to the Keras 2 API: `Conv2D(8, (3, 3), activation=\"relu\", input_shape=(28, 28, 1...)`\n",
            "  # Remove the CWD from sys.path while we load stuff.\n",
            "/usr/local/lib/python3.6/dist-packages/ipykernel_launcher.py:15: UserWarning: Update your `Conv2D` call to the Keras 2 API: `Conv2D(16, (3, 3), activation=\"relu\")`\n",
            "  from ipykernel import kernelapp as app\n",
            "/usr/local/lib/python3.6/dist-packages/ipykernel_launcher.py:20: UserWarning: Update your `Conv2D` call to the Keras 2 API: `Conv2D(24, (3, 3), activation=\"relu\")`\n",
            "/usr/local/lib/python3.6/dist-packages/ipykernel_launcher.py:27: UserWarning: Update your `Conv2D` call to the Keras 2 API: `Conv2D(8, (1, 1), activation=\"relu\")`\n",
            "/usr/local/lib/python3.6/dist-packages/ipykernel_launcher.py:32: UserWarning: Update your `Conv2D` call to the Keras 2 API: `Conv2D(8, (3, 3), activation=\"relu\")`\n",
            "/usr/local/lib/python3.6/dist-packages/ipykernel_launcher.py:37: UserWarning: Update your `Conv2D` call to the Keras 2 API: `Conv2D(12, (3, 3), activation=\"relu\")`\n",
            "/usr/local/lib/python3.6/dist-packages/ipykernel_launcher.py:42: UserWarning: Update your `Conv2D` call to the Keras 2 API: `Conv2D(24, (3, 3), activation=\"relu\")`\n",
            "/usr/local/lib/python3.6/dist-packages/ipykernel_launcher.py:47: UserWarning: Update your `Conv2D` call to the Keras 2 API: `Conv2D(16, (3, 3), activation=\"relu\")`\n",
            "/usr/local/lib/python3.6/dist-packages/ipykernel_launcher.py:52: UserWarning: Update your `Conv2D` call to the Keras 2 API: `Conv2D(10, (3, 3), activation=\"relu\")`\n"
          ],
          "name": "stderr"
        },
        {
          "output_type": "stream",
          "text": [
            "_________________________________________________________________\n",
            "Layer (type)                 Output Shape              Param #   \n",
            "=================================================================\n",
            "conv2d_4 (Conv2D)            (None, 26, 26, 8)         80        \n",
            "_________________________________________________________________\n",
            "batch_normalization_1 (Batch (None, 26, 26, 8)         32        \n",
            "_________________________________________________________________\n",
            "dropout_1 (Dropout)          (None, 26, 26, 8)         0         \n",
            "_________________________________________________________________\n",
            "conv2d_5 (Conv2D)            (None, 24, 24, 16)        1168      \n",
            "_________________________________________________________________\n",
            "batch_normalization_2 (Batch (None, 24, 24, 16)        64        \n",
            "_________________________________________________________________\n",
            "dropout_2 (Dropout)          (None, 24, 24, 16)        0         \n",
            "_________________________________________________________________\n",
            "conv2d_6 (Conv2D)            (None, 22, 22, 24)        3480      \n",
            "_________________________________________________________________\n",
            "batch_normalization_3 (Batch (None, 22, 22, 24)        96        \n",
            "_________________________________________________________________\n",
            "dropout_3 (Dropout)          (None, 22, 22, 24)        0         \n",
            "_________________________________________________________________\n",
            "max_pooling2d_1 (MaxPooling2 (None, 11, 11, 24)        0         \n",
            "_________________________________________________________________\n",
            "conv2d_7 (Conv2D)            (None, 11, 11, 8)         200       \n",
            "_________________________________________________________________\n",
            "batch_normalization_4 (Batch (None, 11, 11, 8)         32        \n",
            "_________________________________________________________________\n",
            "dropout_4 (Dropout)          (None, 11, 11, 8)         0         \n",
            "_________________________________________________________________\n",
            "conv2d_8 (Conv2D)            (None, 9, 9, 8)           584       \n",
            "_________________________________________________________________\n",
            "batch_normalization_5 (Batch (None, 9, 9, 8)           32        \n",
            "_________________________________________________________________\n",
            "dropout_5 (Dropout)          (None, 9, 9, 8)           0         \n",
            "_________________________________________________________________\n",
            "conv2d_9 (Conv2D)            (None, 7, 7, 12)          876       \n",
            "_________________________________________________________________\n",
            "batch_normalization_6 (Batch (None, 7, 7, 12)          48        \n",
            "_________________________________________________________________\n",
            "dropout_6 (Dropout)          (None, 7, 7, 12)          0         \n",
            "_________________________________________________________________\n",
            "conv2d_10 (Conv2D)           (None, 5, 5, 24)          2616      \n",
            "_________________________________________________________________\n",
            "batch_normalization_7 (Batch (None, 5, 5, 24)          96        \n",
            "_________________________________________________________________\n",
            "dropout_7 (Dropout)          (None, 5, 5, 24)          0         \n",
            "_________________________________________________________________\n",
            "conv2d_11 (Conv2D)           (None, 3, 3, 16)          3472      \n",
            "_________________________________________________________________\n",
            "batch_normalization_8 (Batch (None, 3, 3, 16)          64        \n",
            "_________________________________________________________________\n",
            "dropout_8 (Dropout)          (None, 3, 3, 16)          0         \n",
            "_________________________________________________________________\n",
            "conv2d_12 (Conv2D)           (None, 1, 1, 10)          1450      \n",
            "_________________________________________________________________\n",
            "flatten_2 (Flatten)          (None, 10)                0         \n",
            "_________________________________________________________________\n",
            "activation_2 (Activation)    (None, 10)                0         \n",
            "=================================================================\n",
            "Total params: 14,390\n",
            "Trainable params: 14,158\n",
            "Non-trainable params: 232\n",
            "_________________________________________________________________\n",
            "Epoch 1/10\n",
            "6000/6000 [==============================] - 1001s 167ms/step - loss: 0.1857 - acc: 0.9419 - val_loss: 0.0287 - val_acc: 0.9904\n",
            "Epoch 2/10\n",
            "6000/6000 [==============================] - 1012s 169ms/step - loss: 0.0708 - acc: 0.9784 - val_loss: 0.0228 - val_acc: 0.9924\n",
            "Epoch 3/10\n",
            "6000/6000 [==============================] - 996s 166ms/step - loss: 0.0575 - acc: 0.9826 - val_loss: 0.0224 - val_acc: 0.9933\n",
            "Epoch 4/10\n",
            "6000/6000 [==============================] - 990s 165ms/step - loss: 0.0507 - acc: 0.9847 - val_loss: 0.0172 - val_acc: 0.9941\n",
            "Epoch 5/10\n",
            "6000/6000 [==============================] - 1013s 169ms/step - loss: 0.0467 - acc: 0.9857 - val_loss: 0.0187 - val_acc: 0.9942\n",
            "Epoch 6/10\n",
            "6000/6000 [==============================] - 1016s 169ms/step - loss: 0.0432 - acc: 0.9869 - val_loss: 0.0168 - val_acc: 0.9941\n",
            "Epoch 7/10\n",
            "6000/6000 [==============================] - 1002s 167ms/step - loss: 0.0406 - acc: 0.9876 - val_loss: 0.0152 - val_acc: 0.9947\n",
            "Epoch 8/10\n",
            "6000/6000 [==============================] - 992s 165ms/step - loss: 0.0399 - acc: 0.9878 - val_loss: 0.0185 - val_acc: 0.9944\n",
            "Epoch 9/10\n",
            "6000/6000 [==============================] - 1021s 170ms/step - loss: 0.0382 - acc: 0.9883 - val_loss: 0.0149 - val_acc: 0.9948\n",
            "Epoch 10/10\n",
            "6000/6000 [==============================] - 1020s 170ms/step - loss: 0.0367 - acc: 0.9887 - val_loss: 0.0165 - val_acc: 0.9945\n",
            "Best Validation Accuracy : 99.48\n"
          ],
          "name": "stdout"
        },
        {
          "output_type": "display_data",
          "data": {
            "image/png": "[encoded data removed]",
            "text/plain": [
              "<Figure size 432x288 with 1 Axes>"
            ]
          },
          "metadata": {
            "tags": []
          }
        },
        {
          "output_type": "display_data",
          "data": {
            "image/png": "[encoded data removed]",
            "text/plain": [
              "<Figure size 432x288 with 1 Axes>"
            ]
          },
          "metadata": {
            "tags": []
          }
        }
      ]
    },
    {
      "cell_type": "markdown",
      "metadata": {
        "id": "PiXbQsinWCo7",
        "colab_type": "text"
      },
      "source": [
        "###And Done!!\n",
        "\n",
        "Thats it! We solved overfitting and we solved the problem of bias. The validation accuracies are cosistently higher than the training accuracies and we reached as high as 99.48% on our vaiidation accuracy!!"
      ]
    }
  ]
}