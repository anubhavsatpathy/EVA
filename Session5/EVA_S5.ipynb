{
  "nbformat": 4,
  "nbformat_minor": 0,
  "metadata": {
    "colab": {
      "name": "EVA_S5.ipynb",
      "version": "0.3.2",
      "provenance": [],
      "collapsed_sections": [],
      "include_colab_link": true
    },
    "kernelspec": {
      "name": "python3",
      "display_name": "Python 3"
    }
  },
  "cells": [
    {
      "cell_type": "markdown",
      "metadata": {
        "id": "view-in-github",
        "colab_type": "text"
      },
      "source": [
        "<a href=\"https://colab.research.google.com/github/anubhavsatpathy/EVA/blob/master/Session5/EVA_S5.ipynb\" target=\"_parent\"><img src=\"https://colab.research.google.com/assets/colab-badge.svg\" alt=\"Open In Colab\"/></a>"
      ]
    },
    {
      "cell_type": "markdown",
      "metadata": {
        "id": "EDg4mr7ufHOx",
        "colab_type": "text"
      },
      "source": [
        "###Network Regularization and Batch Normalization\n",
        "\n",
        "This assignment's objectives are to :\n",
        "\n",
        "- Create a custom loss function to add L2 penalty to the cross-entropy loss\n",
        "- Add Batch Normalization during training and testing\n",
        "- Print a set of 25 misclassified images from our validation set\n",
        "\n",
        "The code below installs Keras and imports keras and tensorflow to the python runtime"
      ]
    },
    {
      "cell_type": "code",
      "metadata": {
        "id": "2CSNOxNgsajl",
        "colab_type": "code",
        "outputId": "d60ff628-93ca-484b-df97-2697577664d9",
        "colab": {
          "base_uri": "https://localhost:8080/",
          "height": 34
        }
      },
      "source": [
        "!pip install -q keras\n",
        "import keras\n",
        "import tensorflow as tf\n",
        "\n",
        "tf.logging.set_verbosity(tf.logging.ERROR)"
      ],
      "execution_count": 0,
      "outputs": [
        {
          "output_type": "stream",
          "text": [
            "Using TensorFlow backend.\n"
          ],
          "name": "stderr"
        }
      ]
    },
    {
      "cell_type": "markdown",
      "metadata": {
        "id": "XOJtSoJGheuN",
        "colab_type": "text"
      },
      "source": [
        "###Importing Modules:\n",
        "\n",
        "We utilize the code snippen below to import modules to our runtime so that we can use the interfaces exposed by these modules to write and adjust our CNN. We describe only a few modules below that we have not covered in previous assignments:\n",
        "\n",
        "- **ModelCheckpoint** : This is among the many callbacks provided by Keras that we can use while training our model. We will use this to store the best model weights so that we do not loose out on them by updations performed during subsequent epochs ([Documentation](https://keras.io/callbacks/))\n",
        "\n",
        "- **ImageDataGenerator** : This module helps us perform image augmentation which is a very strong regularization measure. We can use this to apply transformations like rotation, translation, random crop etc. on out training dataset before passing them on to the network ([Documentation](https://keras.io/preprocessing/image/))\n",
        "\n",
        "- **Dropout** : This a keras layer that implements dropouts. Dropouts are another regurarization mechanism that drop certain pixel values while training the model so that our model does not overfit to the training images ([Documentation](https://keras.io/layers/core/))"
      ]
    },
    {
      "cell_type": "code",
      "metadata": {
        "id": "SjDbUcFEtH_9",
        "colab_type": "code",
        "colab": {}
      },
      "source": [
        "import numpy as np\n",
        "\n",
        "from keras.models import Sequential\n",
        "from keras.layers import Dense, Dropout, Activation, Flatten, Add\n",
        "from keras.layers import BatchNormalization\n",
        "from keras.layers import Convolution2D, MaxPooling2D\n",
        "from keras.preprocessing.image import ImageDataGenerator\n",
        "from keras.utils import np_utils\n",
        "from keras.callbacks import ModelCheckpoint\n",
        "import keras.backend as K\n",
        "\n",
        "from keras.datasets import mnist\n",
        "from keras.utils import plot_model\n",
        "\n",
        "from matplotlib import pyplot as plt\n",
        "%matplotlib inline"
      ],
      "execution_count": 0,
      "outputs": []
    },
    {
      "cell_type": "markdown",
      "metadata": {
        "id": "Mr918iuFhqi5",
        "colab_type": "text"
      },
      "source": [
        "###Hyper-Parameters\n",
        "\n",
        "Each machine learning model will have certain hyper-parameters like batch-size, input shape etc. that are essentially training invariants and are actually agnostic to the model at hand.\n",
        "\n",
        "To make it easier to iterate with changing these parameters - we usually define them at one place and keep referring to them. This is why we define the dictionary PARAMS in the code below"
      ]
    },
    {
      "cell_type": "code",
      "metadata": {
        "id": "AVZv2m-0tLtv",
        "colab_type": "code",
        "colab": {}
      },
      "source": [
        "PARAMS = {\n",
        "    'INPUT_SHAPE' : (28,28,1),\n",
        "    'EPOCHS' : 10\n",
        "}"
      ],
      "execution_count": 0,
      "outputs": []
    },
    {
      "cell_type": "markdown",
      "metadata": {
        "id": "T5kh17ychsPk",
        "colab_type": "text"
      },
      "source": [
        "### Loading and Pre-Processing the Data:\n",
        "\n",
        "We have been doing these steps for the last two assignments and are now now quite familiar with what these steps do and why are they necessary. Hence - It becomes worthless to inflate our notebook by writing shapes and random images to the console\n",
        "\n",
        "This is why we wrap all of the data-loading and pre-processing code into a function called load_data() and call this in main() to load the data into our runtime variables *X_train, Y_train, X_test and Y_test*"
      ]
    },
    {
      "cell_type": "code",
      "metadata": {
        "id": "_f6MehiOtROQ",
        "colab_type": "code",
        "outputId": "f0ddd374-34e9-496f-b0b5-1b97ead022b5",
        "colab": {
          "base_uri": "https://localhost:8080/",
          "height": 52
        }
      },
      "source": [
        "def load_data():\n",
        "  (X_train, y_train), (X_test, y_test) = mnist.load_data()\n",
        "  X_train = X_train.reshape(X_train.shape[0], 28, 28,1)\n",
        "  X_test = X_test.reshape(X_test.shape[0], 28, 28,1)\n",
        "  X_train = X_train.astype('float32')\n",
        "  X_test = X_test.astype('float32')\n",
        "  X_train /= 255\n",
        "  X_test /= 255\n",
        "  Y_train = np_utils.to_categorical(y_train, 10)\n",
        "  Y_test = np_utils.to_categorical(y_test, 10)\n",
        "  return (X_train, Y_train),(X_test, Y_test)\n",
        "\n",
        "(X_train, Y_train),(X_test, Y_test) = load_data()"
      ],
      "execution_count": 0,
      "outputs": [
        {
          "output_type": "stream",
          "text": [
            "Downloading data from https://s3.amazonaws.com/img-datasets/mnist.npz\n",
            "11493376/11490434 [==============================] - 0s 0us/step\n"
          ],
          "name": "stdout"
        }
      ]
    },
    {
      "cell_type": "markdown",
      "metadata": {
        "id": "-oOg8m4Fh2Hn",
        "colab_type": "text"
      },
      "source": [
        "###Image Augmentation:\n",
        "\n",
        "This time we create 2 augmentation pipelines - we call them out train input pipeline and our test input pipeline. The *train pipeline* takes X_train and Y_train as input, normalizes them, randomly shifts, zooms and rotates them and outputs a python generator that yeilds batches\n",
        "\n",
        "The *test pipeline* does the same except if only normalizes the images. This is required since a network trained on normalized images will not perform that well when given non-normalized images.\n",
        "\n"
      ]
    },
    {
      "cell_type": "code",
      "metadata": {
        "id": "ua0lqjLbugGc",
        "colab_type": "code",
        "outputId": "a1fc2fc4-61e8-439e-da8e-5cced70d76c4",
        "colab": {
          "base_uri": "https://localhost:8080/",
          "height": 216
        }
      },
      "source": [
        "\n",
        "train_datagen = ImageDataGenerator(featurewise_center = True, \n",
        "                                   featurewise_std_normalization = True,\n",
        "                                   rotation_range = 10,\n",
        "                                   zoom_range = 0.10,\n",
        "                                   width_shift_range = 0.1,\n",
        "                                   height_shift_range = 0.1)\n",
        "test_datagen = ImageDataGenerator(featurewise_center = True, featurewise_std_normalization = True)\n",
        "train_datagen.fit(X_train)\n",
        "test_datagen.fit(X_test)\n",
        "\n",
        "fig, ax = plt.subplots(1,2)\n",
        "img = X_train[45]\n",
        "ax[0].imshow(img.reshape(28,28))\n",
        "ax[0].set_title(\"Before Nolmalizing\")\n",
        "train_datagen.standardize(img.reshape(1,28,28,1))\n",
        "ax[1].imshow(img.reshape(28,28))\n",
        "ax[1].set_title(\"After Normalizing\")\n",
        "plt.show()\n",
        "\n",
        "train_data_iter = train_datagen.flow(X_train,Y_train, batch_size = 64)\n",
        "test_data_iter =  test_datagen.flow(X_test,Y_test, batch_size = 10000)"
      ],
      "execution_count": 0,
      "outputs": [
        {
          "output_type": "display_data",
          "data": {
            "image/png": "[encoded data removed]",
            "text/plain": [
              "<Figure size 432x288 with 2 Axes>"
            ]
          },
          "metadata": {
            "tags": []
          }
        }
      ]
    },
    {
      "cell_type": "markdown",
      "metadata": {
        "id": "TUWJuwHRlHMx",
        "colab_type": "text"
      },
      "source": [
        "###Defining our Loss\n",
        "This is the tricky part of the assignment. What we need to do is to create a loss function that does this:\n",
        "\n",
        "Loss = Cross_Entropy + L2 Loss\n",
        "\n",
        "L2 Loss = *f(Weights)*\n",
        "\n",
        "We break down our function in the following steps:\n",
        "\n",
        "- **Keras Loss** : A keras loss is a funtion that takes two arguments *(y_true, y_pred)* and returns a scalar - We define this as the function loss() that we return from within custom_loss. This has been done to make lambda configurable\n",
        "- **Regularization Loss** : Inside our loss function we iterate through the layers of our model and if the layer is a convolution layer we sum the squares of it's weights in a variable. Finally we multiply this variable with our lambda and add out categorical_cross_entropy loss"
      ]
    },
    {
      "cell_type": "code",
      "metadata": {
        "id": "WgqwkMnS9-6o",
        "colab_type": "code",
        "colab": {}
      },
      "source": [
        "def custom_loss(lambd, model, batch_size):\n",
        "  \n",
        "  def loss(y_true, y_pred):\n",
        "    reg_loss = 0.0;\n",
        "    for layer in model.layers:\n",
        "      if layer.get_config()['name'].startswith('conv'):\n",
        "        reg_loss += K.sum(K.square(layer.weights[0]))\n",
        "    l2_loss = (lambd/(2*batch_size))*reg_loss\n",
        "    return K.categorical_crossentropy(y_true,y_pred) + l2_loss\n",
        "  return loss\n",
        "    \n",
        "  "
      ],
      "execution_count": 0,
      "outputs": []
    },
    {
      "cell_type": "markdown",
      "metadata": {
        "id": "nPaBd2jSqkyl",
        "colab_type": "text"
      },
      "source": [
        "###Validating our Loss:\n",
        "\n",
        "In order to validate our loss function - we define a custom callback that saves the sum of squares of the weights after every training batch. The idea is that on plotting these values - The ones while using the custom loss will be much lower than the ones while using normal cross entropy"
      ]
    },
    {
      "cell_type": "code",
      "metadata": {
        "id": "FrRPN98hwjLE",
        "colab_type": "code",
        "colab": {}
      },
      "source": [
        "class WeightHistory(keras.callbacks.Callback):\n",
        "  def __init__(self, model):\n",
        "    self._model = model\n",
        "    self._mean_weights = []\n",
        "  \n",
        "  def on_batch_end(self, batch, logs):\n",
        "    m_w = 0.0\n",
        "    for layer in self._model.layers:\n",
        "      if layer.get_config()['name'].startswith('conv'):\n",
        "        m_w += np.sum(np.square(layer.get_weights()[0]))\n",
        "    self._mean_weights.append(m_w)\n",
        "      \n",
        "  def get_mean_weights(self):\n",
        "    return self._mean_weights"
      ],
      "execution_count": 0,
      "outputs": []
    },
    {
      "cell_type": "markdown",
      "metadata": {
        "id": "UPraIvE7rIwG",
        "colab_type": "text"
      },
      "source": [
        "###Defining our training method\n",
        "\n",
        "We encapsulate our training method within two functions - one that uses the custom loss while compiling the model and another that uses the the categorical cross entropy loss\n",
        "\n",
        "These functions do the following:\n",
        "\n",
        "- They **return the history** of the training\n",
        "- They **save the best** model weights during training"
      ]
    },
    {
      "cell_type": "code",
      "metadata": {
        "id": "Iadn5R07zGYB",
        "colab_type": "code",
        "colab": {}
      },
      "source": [
        "def train_with_l2_loss(num_epochs, steps, verbosity = 0, calculate_means = True, lambd = 0.1, fname = 'best_l2_loss.hdf5'):\n",
        "  model = get_model()\n",
        "  model.compile(loss= custom_loss(lambd, model, 64),\n",
        "             optimizer='adam',\n",
        "             metrics=['accuracy'])\n",
        "\n",
        "  weight_means = WeightHistory(model)\n",
        "\n",
        "  CKPT = ModelCheckpoint(filepath = fname, monitor='val_acc', verbose=1, save_best_only=True, save_weights_only=False, mode='max', period=1)\n",
        "\n",
        "  cbacks = [CKPT]\n",
        "  \n",
        "  if calculate_means:\n",
        "    cbacks.append(weight_means)\n",
        "  \n",
        "  H = model.fit_generator(train_data_iter, steps_per_epoch = steps, epochs = num_epochs, callbacks = cbacks, validation_data = test_data_iter.next(), verbose = verbosity)\n",
        "  \n",
        "  return (H, weight_means)\n",
        "\n",
        "def train_with_categorical_cross_entropy(num_epochs, steps, verbosity = 0, calculate_means = True, fname = 'best_ce_loss.hdf5'):\n",
        "  model = get_model()\n",
        "  model.compile(loss= 'categorical_crossentropy',\n",
        "             optimizer='adam',\n",
        "             metrics=['accuracy'])\n",
        "\n",
        "  weight_means = WeightHistory(model)\n",
        "\n",
        "  CKPT = ModelCheckpoint(filepath = fname, monitor='val_acc', verbose=0, save_best_only=True, save_weights_only=False, mode='max', period=1)\n",
        "\n",
        "  cbacks = [CKPT]\n",
        "  \n",
        "  if calculate_means:\n",
        "    cbacks.append(weight_means)\n",
        "  \n",
        "  H = model.fit_generator(train_data_iter, steps_per_epoch = steps, epochs = num_epochs, callbacks = cbacks, validation_data = test_data_iter.next(), verbose = verbosity)\n",
        "  \n",
        "  return (H, weight_means)"
      ],
      "execution_count": 0,
      "outputs": []
    },
    {
      "cell_type": "markdown",
      "metadata": {
        "id": "oCjk8MNysRan",
        "colab_type": "text"
      },
      "source": [
        "###Defining our model:\n",
        "\n",
        "The code below does the following:\n",
        "\n",
        "- Encapsulates the model within a getter function so our train methods have access to brand new models - The only difference in our models is that we add Batch Normalization before ReLU for each convolution layer\n",
        "\n",
        "- Train two new models for 4 epochs of a 100 steps each - one with the custom loss function and another with the categorical cross entropy loss\n",
        "\n",
        "- Plot the sum of weights returned by these two methods\n",
        "\n",
        "What we observe is that while using our custom loss - Our weights saturate at a much lower level than while using our cross entropy loss - This validates our loss function for us"
      ]
    },
    {
      "cell_type": "code",
      "metadata": {
        "id": "yODD3AHf0C0T",
        "colab_type": "code",
        "outputId": "59e70f6c-55bc-4061-d84b-f1f6ba616b22",
        "colab": {
          "base_uri": "https://localhost:8080/",
          "height": 891
        }
      },
      "source": [
        "def get_model():\n",
        "  model = Sequential()\n",
        "\n",
        "  #out_shape : [b_s, 26, 26, 8], GRF_of_activations : [3,3]\n",
        "  model.add(Convolution2D(8, 3, 3, input_shape=PARAMS['INPUT_SHAPE'], bias = False))#26\n",
        "  model.add(BatchNormalization())\n",
        "  model.add(Activation('relu'))\n",
        "  model.add(Dropout(0.05))\n",
        "\n",
        "  #out_shape : [b_s, 24, 24, 16], GRF_of_activations : [5,5]\n",
        "  model.add(Convolution2D(16, 3, 3, bias = False))#24\n",
        "  model.add(BatchNormalization())\n",
        "  model.add(Activation('relu'))\n",
        "  model.add(Dropout(0.05))\n",
        "\n",
        "  # out_shape : [b_s, 22, 22, 24], GRF_of_activations : [7,7]\n",
        "  model.add(Convolution2D(24,3,3, bias = False))#22\n",
        "  model.add(BatchNormalization())\n",
        "  model.add(Activation('relu'))\n",
        "  model.add(Dropout(0.05))\n",
        "\n",
        "  # out_shape : [b_s, 11, 11, 24], GRF_of_activations : [8,8]\n",
        "  model.add(MaxPooling2D(2,2))#11\n",
        "  # out_shape : [b_s, 11, 11, 8], GRF_of_activations : [8,8]\n",
        "  model.add(Convolution2D(8, 1, 1, bias = False))\n",
        "  model.add(BatchNormalization())\n",
        "  model.add(Activation('relu'))\n",
        "  model.add(Dropout(0.05))\n",
        "\n",
        "  # out_shape : [b_s, 9, 9, 8], GRF_of_activations : [12,12]\n",
        "  model.add(Convolution2D(8, 3, 3, bias = False))#9\n",
        "  model.add(BatchNormalization())\n",
        "  model.add(Activation('relu'))\n",
        "  model.add(Dropout(0.05))\n",
        "\n",
        "  # out_shape : [b_s, 7, 7, 12], GRF_of_activations : [16,16]\n",
        "  model.add(Convolution2D(12, 3, 3, bias = False))#7\n",
        "  model.add(BatchNormalization())\n",
        "  model.add(Activation('relu'))\n",
        "  model.add(Dropout(0.05))\n",
        "\n",
        "  # out_shape : [b_s, 5, 5, 24], GRF_of_activations : [20,20]\n",
        "  model.add(Convolution2D(24, 3, 3, bias = False))#5\n",
        "  model.add(BatchNormalization())\n",
        "  model.add(Activation('relu'))\n",
        "  model.add(Dropout(0.05))\n",
        "\n",
        "  # out_shape : [b_s, 3, 3, 10], GRF_of_activations : [24,24]\n",
        "  model.add(Convolution2D(16, 3, 3, bias = False))#3\n",
        "  model.add(BatchNormalization())\n",
        "  model.add(Activation('relu'))\n",
        "  model.add(Dropout(0.05))\n",
        "\n",
        "  # out_shape : [b_s, 1, 1, 10], GRF_of_activations : [28,28]\n",
        "  model.add(Convolution2D(10, 3, 3, bias = False))#1\n",
        "\n",
        "  model.add(Flatten())\n",
        "  model.add(Activation('softmax'))  \n",
        "  \n",
        "  return model\n",
        "\n",
        "H_L2_Loss, WMeans_L2_Loss = train_with_l2_loss(4, 100, 0)\n",
        "\n",
        "H_CE_Loss, WMeans_CE_Loss = train_with_categorical_cross_entropy(4, 100, 0)\n",
        "\n",
        "fig = plt.figure(1)\n",
        "plt.plot(WMeans_CE_Loss.get_mean_weights())\n",
        "plt.title(\"Sum Square of Weights - CE Loss/L2 Loss\")\n",
        "plt.plot(WMeans_L2_Loss.get_mean_weights())\n",
        "plt.legend(['CE','L2'], loc = 'upper left')\n",
        "\n",
        "\n",
        "plt.show()\n"
      ],
      "execution_count": 0,
      "outputs": [
        {
          "output_type": "stream",
          "text": [
            "/usr/local/lib/python3.6/dist-packages/ipykernel_launcher.py:5: UserWarning: Update your `Conv2D` call to the Keras 2 API: `Conv2D(8, (3, 3), input_shape=(28, 28, 1..., use_bias=False)`\n",
            "  \"\"\"\n",
            "/usr/local/lib/python3.6/dist-packages/ipykernel_launcher.py:11: UserWarning: Update your `Conv2D` call to the Keras 2 API: `Conv2D(16, (3, 3), use_bias=False)`\n",
            "  # This is added back by InteractiveShellApp.init_path()\n",
            "/usr/local/lib/python3.6/dist-packages/ipykernel_launcher.py:17: UserWarning: Update your `Conv2D` call to the Keras 2 API: `Conv2D(24, (3, 3), use_bias=False)`\n",
            "/usr/local/lib/python3.6/dist-packages/ipykernel_launcher.py:25: UserWarning: Update your `Conv2D` call to the Keras 2 API: `Conv2D(8, (1, 1), use_bias=False)`\n",
            "/usr/local/lib/python3.6/dist-packages/ipykernel_launcher.py:31: UserWarning: Update your `Conv2D` call to the Keras 2 API: `Conv2D(8, (3, 3), use_bias=False)`\n",
            "/usr/local/lib/python3.6/dist-packages/ipykernel_launcher.py:37: UserWarning: Update your `Conv2D` call to the Keras 2 API: `Conv2D(12, (3, 3), use_bias=False)`\n",
            "/usr/local/lib/python3.6/dist-packages/ipykernel_launcher.py:43: UserWarning: Update your `Conv2D` call to the Keras 2 API: `Conv2D(24, (3, 3), use_bias=False)`\n",
            "/usr/local/lib/python3.6/dist-packages/ipykernel_launcher.py:49: UserWarning: Update your `Conv2D` call to the Keras 2 API: `Conv2D(16, (3, 3), use_bias=False)`\n",
            "/usr/local/lib/python3.6/dist-packages/ipykernel_launcher.py:55: UserWarning: Update your `Conv2D` call to the Keras 2 API: `Conv2D(10, (3, 3), use_bias=False)`\n",
            "/usr/local/lib/python3.6/dist-packages/keras/callbacks.py:122: UserWarning: Method on_batch_end() is slow compared to the batch update (0.286896). Check your callbacks.\n",
            "  % delta_t_median)\n"
          ],
          "name": "stderr"
        },
        {
          "output_type": "stream",
          "text": [
            "\n",
            "Epoch 00001: val_acc improved from -inf to 0.57140, saving model to best_l2_loss.hdf5\n",
            "\n",
            "Epoch 00002: val_acc improved from 0.57140 to 0.77470, saving model to best_l2_loss.hdf5\n",
            "\n",
            "Epoch 00003: val_acc improved from 0.77470 to 0.90680, saving model to best_l2_loss.hdf5\n",
            "\n",
            "Epoch 00004: val_acc improved from 0.90680 to 0.94880, saving model to best_l2_loss.hdf5\n"
          ],
          "name": "stdout"
        },
        {
          "output_type": "stream",
          "text": [
            "/usr/local/lib/python3.6/dist-packages/ipykernel_launcher.py:5: UserWarning: Update your `Conv2D` call to the Keras 2 API: `Conv2D(8, (3, 3), input_shape=(28, 28, 1..., use_bias=False)`\n",
            "  \"\"\"\n",
            "/usr/local/lib/python3.6/dist-packages/ipykernel_launcher.py:11: UserWarning: Update your `Conv2D` call to the Keras 2 API: `Conv2D(16, (3, 3), use_bias=False)`\n",
            "  # This is added back by InteractiveShellApp.init_path()\n",
            "/usr/local/lib/python3.6/dist-packages/ipykernel_launcher.py:17: UserWarning: Update your `Conv2D` call to the Keras 2 API: `Conv2D(24, (3, 3), use_bias=False)`\n",
            "/usr/local/lib/python3.6/dist-packages/ipykernel_launcher.py:25: UserWarning: Update your `Conv2D` call to the Keras 2 API: `Conv2D(8, (1, 1), use_bias=False)`\n",
            "/usr/local/lib/python3.6/dist-packages/ipykernel_launcher.py:31: UserWarning: Update your `Conv2D` call to the Keras 2 API: `Conv2D(8, (3, 3), use_bias=False)`\n",
            "/usr/local/lib/python3.6/dist-packages/ipykernel_launcher.py:37: UserWarning: Update your `Conv2D` call to the Keras 2 API: `Conv2D(12, (3, 3), use_bias=False)`\n",
            "/usr/local/lib/python3.6/dist-packages/ipykernel_launcher.py:43: UserWarning: Update your `Conv2D` call to the Keras 2 API: `Conv2D(24, (3, 3), use_bias=False)`\n",
            "/usr/local/lib/python3.6/dist-packages/ipykernel_launcher.py:49: UserWarning: Update your `Conv2D` call to the Keras 2 API: `Conv2D(16, (3, 3), use_bias=False)`\n",
            "/usr/local/lib/python3.6/dist-packages/ipykernel_launcher.py:55: UserWarning: Update your `Conv2D` call to the Keras 2 API: `Conv2D(10, (3, 3), use_bias=False)`\n",
            "/usr/local/lib/python3.6/dist-packages/keras/callbacks.py:122: UserWarning: Method on_batch_end() is slow compared to the batch update (0.387838). Check your callbacks.\n",
            "  % delta_t_median)\n"
          ],
          "name": "stderr"
        },
        {
          "output_type": "display_data",
          "data": {
            "image/png": "[encoded data removed]",
            "text/plain": [
              "<Figure size 432x288 with 1 Axes>"
            ]
          },
          "metadata": {
            "tags": []
          }
        }
      ]
    },
    {
      "cell_type": "markdown",
      "metadata": {
        "id": "qj37qvlntY9q",
        "colab_type": "text"
      },
      "source": [
        "###Training our model\n",
        "\n",
        "The code below trains the model for 40 epochs of 1000 batches each with a batch size of 64.\n",
        "\n",
        "All this while it saves the best model to a file names *best_acc_model.hdf5*\n",
        "\n",
        "As can be seen the best accuracy reached in 99.46%"
      ]
    },
    {
      "cell_type": "code",
      "metadata": {
        "id": "WDIk3ydSJmy2",
        "colab_type": "code",
        "outputId": "8ff9bbfc-111b-4771-fe91-a747c70782fa",
        "colab": {
          "base_uri": "https://localhost:8080/",
          "height": 1000
        }
      },
      "source": [
        "H, W = train_with_l2_loss(num_epochs = 40, steps = 1000, verbosity = 1, calculate_means = False, lambd = 0.01, fname = 'best_acc_model.hdf5')\n",
        "\n",
        "print(\"Best Validation Accuracy : {}\".format(np.max(H.history['val_acc'])))"
      ],
      "execution_count": 0,
      "outputs": [
        {
          "output_type": "stream",
          "text": [
            "/usr/local/lib/python3.6/dist-packages/ipykernel_launcher.py:5: UserWarning: Update your `Conv2D` call to the Keras 2 API: `Conv2D(8, (3, 3), input_shape=(28, 28, 1..., use_bias=False)`\n",
            "  \"\"\"\n",
            "/usr/local/lib/python3.6/dist-packages/ipykernel_launcher.py:11: UserWarning: Update your `Conv2D` call to the Keras 2 API: `Conv2D(16, (3, 3), use_bias=False)`\n",
            "  # This is added back by InteractiveShellApp.init_path()\n",
            "/usr/local/lib/python3.6/dist-packages/ipykernel_launcher.py:17: UserWarning: Update your `Conv2D` call to the Keras 2 API: `Conv2D(24, (3, 3), use_bias=False)`\n",
            "/usr/local/lib/python3.6/dist-packages/ipykernel_launcher.py:25: UserWarning: Update your `Conv2D` call to the Keras 2 API: `Conv2D(8, (1, 1), use_bias=False)`\n",
            "/usr/local/lib/python3.6/dist-packages/ipykernel_launcher.py:31: UserWarning: Update your `Conv2D` call to the Keras 2 API: `Conv2D(8, (3, 3), use_bias=False)`\n",
            "/usr/local/lib/python3.6/dist-packages/ipykernel_launcher.py:37: UserWarning: Update your `Conv2D` call to the Keras 2 API: `Conv2D(12, (3, 3), use_bias=False)`\n",
            "/usr/local/lib/python3.6/dist-packages/ipykernel_launcher.py:43: UserWarning: Update your `Conv2D` call to the Keras 2 API: `Conv2D(24, (3, 3), use_bias=False)`\n",
            "/usr/local/lib/python3.6/dist-packages/ipykernel_launcher.py:49: UserWarning: Update your `Conv2D` call to the Keras 2 API: `Conv2D(16, (3, 3), use_bias=False)`\n",
            "/usr/local/lib/python3.6/dist-packages/ipykernel_launcher.py:55: UserWarning: Update your `Conv2D` call to the Keras 2 API: `Conv2D(10, (3, 3), use_bias=False)`\n"
          ],
          "name": "stderr"
        },
        {
          "output_type": "stream",
          "text": [
            "Epoch 1/40\n",
            "1000/1000 [==============================] - 181s 181ms/step - loss: 0.5879 - acc: 0.8148 - val_loss: 0.0935 - val_acc: 0.9726\n",
            "\n",
            "Epoch 00001: val_acc improved from -inf to 0.97260, saving model to best_acc_model.hdf5\n",
            "Epoch 2/40\n",
            "1000/1000 [==============================] - 174s 174ms/step - loss: 0.1768 - acc: 0.9493 - val_loss: 0.0662 - val_acc: 0.9827\n",
            "\n",
            "Epoch 00002: val_acc improved from 0.97260 to 0.98270, saving model to best_acc_model.hdf5\n",
            "Epoch 3/40\n",
            "1000/1000 [==============================] - 176s 176ms/step - loss: 0.1384 - acc: 0.9614 - val_loss: 0.0610 - val_acc: 0.9848\n",
            "\n",
            "Epoch 00003: val_acc improved from 0.98270 to 0.98480, saving model to best_acc_model.hdf5\n",
            "Epoch 4/40\n",
            "1000/1000 [==============================] - 178s 178ms/step - loss: 0.1203 - acc: 0.9673 - val_loss: 0.0510 - val_acc: 0.9886\n",
            "\n",
            "Epoch 00004: val_acc improved from 0.98480 to 0.98860, saving model to best_acc_model.hdf5\n",
            "Epoch 5/40\n",
            "1000/1000 [==============================] - 175s 175ms/step - loss: 0.1081 - acc: 0.9713 - val_loss: 0.0435 - val_acc: 0.9901\n",
            "\n",
            "Epoch 00005: val_acc improved from 0.98860 to 0.99010, saving model to best_acc_model.hdf5\n",
            "Epoch 6/40\n",
            "1000/1000 [==============================] - 177s 177ms/step - loss: 0.1013 - acc: 0.9735 - val_loss: 0.0440 - val_acc: 0.9898\n",
            "\n",
            "Epoch 00006: val_acc did not improve from 0.99010\n",
            "Epoch 7/40\n",
            "1000/1000 [==============================] - 177s 177ms/step - loss: 0.0967 - acc: 0.9758 - val_loss: 0.0483 - val_acc: 0.9907\n",
            "\n",
            "Epoch 00007: val_acc improved from 0.99010 to 0.99070, saving model to best_acc_model.hdf5\n",
            "Epoch 8/40\n",
            "1000/1000 [==============================] - 179s 179ms/step - loss: 0.0924 - acc: 0.9768 - val_loss: 0.0436 - val_acc: 0.9916\n",
            "\n",
            "Epoch 00008: val_acc improved from 0.99070 to 0.99160, saving model to best_acc_model.hdf5\n",
            "Epoch 9/40\n",
            "1000/1000 [==============================] - 180s 180ms/step - loss: 0.0882 - acc: 0.9784 - val_loss: 0.0443 - val_acc: 0.9909\n",
            "\n",
            "Epoch 00009: val_acc did not improve from 0.99160\n",
            "Epoch 10/40\n",
            "1000/1000 [==============================] - 176s 176ms/step - loss: 0.0894 - acc: 0.9785 - val_loss: 0.0477 - val_acc: 0.9904\n",
            "\n",
            "Epoch 00010: val_acc did not improve from 0.99160\n",
            "Epoch 11/40\n",
            "1000/1000 [==============================] - 179s 179ms/step - loss: 0.0842 - acc: 0.9793 - val_loss: 0.0448 - val_acc: 0.9915\n",
            "\n",
            "Epoch 00011: val_acc did not improve from 0.99160\n",
            "Epoch 12/40\n",
            "1000/1000 [==============================] - 179s 179ms/step - loss: 0.0838 - acc: 0.9797 - val_loss: 0.0463 - val_acc: 0.9904\n",
            "\n",
            "Epoch 00012: val_acc did not improve from 0.99160\n",
            "Epoch 13/40\n",
            "1000/1000 [==============================] - 178s 178ms/step - loss: 0.0827 - acc: 0.9796 - val_loss: 0.0427 - val_acc: 0.9915\n",
            "\n",
            "Epoch 00013: val_acc did not improve from 0.99160\n",
            "Epoch 14/40\n",
            "1000/1000 [==============================] - 180s 180ms/step - loss: 0.0813 - acc: 0.9805 - val_loss: 0.0404 - val_acc: 0.9921\n",
            "\n",
            "Epoch 00014: val_acc improved from 0.99160 to 0.99210, saving model to best_acc_model.hdf5\n",
            "Epoch 15/40\n",
            "1000/1000 [==============================] - 178s 178ms/step - loss: 0.0783 - acc: 0.9810 - val_loss: 0.0411 - val_acc: 0.9922\n",
            "\n",
            "Epoch 00015: val_acc improved from 0.99210 to 0.99220, saving model to best_acc_model.hdf5\n",
            "Epoch 16/40\n",
            "1000/1000 [==============================] - 178s 178ms/step - loss: 0.0797 - acc: 0.9815 - val_loss: 0.0414 - val_acc: 0.9927\n",
            "\n",
            "Epoch 00016: val_acc improved from 0.99220 to 0.99270, saving model to best_acc_model.hdf5\n",
            "Epoch 17/40\n",
            "1000/1000 [==============================] - 177s 177ms/step - loss: 0.0780 - acc: 0.9815 - val_loss: 0.0450 - val_acc: 0.9921\n",
            "\n",
            "Epoch 00017: val_acc did not improve from 0.99270\n",
            "Epoch 18/40\n",
            "1000/1000 [==============================] - 177s 177ms/step - loss: 0.0771 - acc: 0.9823 - val_loss: 0.0463 - val_acc: 0.9904\n",
            "\n",
            "Epoch 00018: val_acc did not improve from 0.99270\n",
            "Epoch 19/40\n",
            "1000/1000 [==============================] - 177s 177ms/step - loss: 0.0774 - acc: 0.9821 - val_loss: 0.0431 - val_acc: 0.9930\n",
            "\n",
            "Epoch 00019: val_acc improved from 0.99270 to 0.99300, saving model to best_acc_model.hdf5\n",
            "Epoch 20/40\n",
            "1000/1000 [==============================] - 177s 177ms/step - loss: 0.0758 - acc: 0.9823 - val_loss: 0.0397 - val_acc: 0.9925\n",
            "\n",
            "Epoch 00020: val_acc did not improve from 0.99300\n",
            "Epoch 21/40\n",
            "1000/1000 [==============================] - 179s 179ms/step - loss: 0.0737 - acc: 0.9830 - val_loss: 0.0447 - val_acc: 0.9912\n",
            "\n",
            "Epoch 00021: val_acc did not improve from 0.99300\n",
            "Epoch 22/40\n",
            "1000/1000 [==============================] - 179s 179ms/step - loss: 0.0737 - acc: 0.9835 - val_loss: 0.0487 - val_acc: 0.9915\n",
            "\n",
            "Epoch 00022: val_acc did not improve from 0.99300\n",
            "Epoch 23/40\n",
            "1000/1000 [==============================] - 177s 177ms/step - loss: 0.0723 - acc: 0.9833 - val_loss: 0.0427 - val_acc: 0.9927\n",
            "\n",
            "Epoch 00023: val_acc did not improve from 0.99300\n",
            "Epoch 24/40\n",
            "1000/1000 [==============================] - 176s 176ms/step - loss: 0.0733 - acc: 0.9832 - val_loss: 0.0383 - val_acc: 0.9946\n",
            "\n",
            "Epoch 00024: val_acc improved from 0.99300 to 0.99460, saving model to best_acc_model.hdf5\n",
            "Epoch 25/40\n",
            "1000/1000 [==============================] - 174s 174ms/step - loss: 0.0740 - acc: 0.9836 - val_loss: 0.0408 - val_acc: 0.9932\n",
            "\n",
            "Epoch 00025: val_acc did not improve from 0.99460\n",
            "Epoch 26/40\n",
            "1000/1000 [==============================] - 174s 174ms/step - loss: 0.0726 - acc: 0.9838 - val_loss: 0.0412 - val_acc: 0.9939\n",
            "\n",
            "Epoch 00026: val_acc did not improve from 0.99460\n",
            "Epoch 27/40\n",
            "1000/1000 [==============================] - 173s 173ms/step - loss: 0.0711 - acc: 0.9844 - val_loss: 0.0415 - val_acc: 0.9940\n",
            "\n",
            "Epoch 00027: val_acc did not improve from 0.99460\n",
            "Epoch 28/40\n",
            "1000/1000 [==============================] - 172s 172ms/step - loss: 0.0708 - acc: 0.9844 - val_loss: 0.0405 - val_acc: 0.9940\n",
            "\n",
            "Epoch 00028: val_acc did not improve from 0.99460\n",
            "Epoch 29/40\n",
            "1000/1000 [==============================] - 177s 177ms/step - loss: 0.0764 - acc: 0.9831 - val_loss: 0.0381 - val_acc: 0.9942\n",
            "\n",
            "Epoch 00029: val_acc did not improve from 0.99460\n",
            "Epoch 30/40\n",
            "1000/1000 [==============================] - 176s 176ms/step - loss: 0.0697 - acc: 0.9845 - val_loss: 0.0397 - val_acc: 0.9934\n",
            "\n",
            "Epoch 00030: val_acc did not improve from 0.99460\n",
            "Epoch 31/40\n",
            "1000/1000 [==============================] - 175s 175ms/step - loss: 0.0722 - acc: 0.9844 - val_loss: 0.0401 - val_acc: 0.9939\n",
            "\n",
            "Epoch 00031: val_acc did not improve from 0.99460\n",
            "Epoch 32/40\n",
            "1000/1000 [==============================] - 175s 175ms/step - loss: 0.0719 - acc: 0.9843 - val_loss: 0.0442 - val_acc: 0.9929\n",
            "\n",
            "Epoch 00032: val_acc did not improve from 0.99460\n",
            "Epoch 33/40\n",
            "1000/1000 [==============================] - 175s 175ms/step - loss: 0.0693 - acc: 0.9850 - val_loss: 0.0398 - val_acc: 0.9935\n",
            "\n",
            "Epoch 00033: val_acc did not improve from 0.99460\n",
            "Epoch 34/40\n",
            "1000/1000 [==============================] - 174s 174ms/step - loss: 0.0706 - acc: 0.9851 - val_loss: 0.0467 - val_acc: 0.9919\n",
            "\n",
            "Epoch 00034: val_acc did not improve from 0.99460\n",
            "Epoch 35/40\n",
            "1000/1000 [==============================] - 173s 173ms/step - loss: 0.0712 - acc: 0.9847 - val_loss: 0.0459 - val_acc: 0.9911\n",
            "\n",
            "Epoch 00035: val_acc did not improve from 0.99460\n",
            "Epoch 36/40\n",
            "1000/1000 [==============================] - 174s 174ms/step - loss: 0.0697 - acc: 0.9851 - val_loss: 0.0399 - val_acc: 0.9939\n",
            "\n",
            "Epoch 00036: val_acc did not improve from 0.99460\n",
            "Epoch 37/40\n",
            "1000/1000 [==============================] - 173s 173ms/step - loss: 0.0678 - acc: 0.9852 - val_loss: 0.0379 - val_acc: 0.9942\n",
            "\n",
            "Epoch 00037: val_acc did not improve from 0.99460\n",
            "Epoch 38/40\n",
            "1000/1000 [==============================] - 174s 174ms/step - loss: 0.0684 - acc: 0.9853 - val_loss: 0.0380 - val_acc: 0.9944\n",
            "\n",
            "Epoch 00038: val_acc did not improve from 0.99460\n",
            "Epoch 39/40\n",
            "1000/1000 [==============================] - 174s 174ms/step - loss: 0.0698 - acc: 0.9848 - val_loss: 0.0426 - val_acc: 0.9920\n",
            "\n",
            "Epoch 00039: val_acc did not improve from 0.99460\n",
            "Epoch 40/40\n",
            "1000/1000 [==============================] - 176s 176ms/step - loss: 0.0675 - acc: 0.9854 - val_loss: 0.0394 - val_acc: 0.9933\n",
            "\n",
            "Epoch 00040: val_acc did not improve from 0.99460\n",
            "Best Validation Accuracy : 0.9946\n"
          ],
          "name": "stdout"
        }
      ]
    },
    {
      "cell_type": "markdown",
      "metadata": {
        "id": "eivSMXJFtyuG",
        "colab_type": "text"
      },
      "source": [
        "###Misclassified images:\n",
        "\n",
        "The code below does the following:\n",
        "\n",
        "- Load the best saved model back into the variable model\n",
        "- Load the test data into the variable *X_val* and *Y_val*\n",
        "- Get the predictions of this model into *Y_pred*\n",
        "- Iterate through all validation examples and store the misclassified IDs into an array\n",
        "- Plot the images of the first 25 elements of this array\n",
        "\n",
        "As can be seen - these images are really outliers in the sense that it's hard for even a human to recognize these numbers and hence we can be satisfied with the robustness of our model"
      ]
    },
    {
      "cell_type": "code",
      "metadata": {
        "id": "iH-T7whHIpCX",
        "colab_type": "code",
        "outputId": "8c056bb9-0f85-43d7-f698-e02b55d044eb",
        "colab": {
          "base_uri": "https://localhost:8080/",
          "height": 919
        }
      },
      "source": [
        "model = get_model()\n",
        "model.load_weights('./best_acc_model.hdf5')\n",
        "model.compile(loss= 'categorical_crossentropy',\n",
        "             optimizer='adam',\n",
        "             metrics=['accuracy'])\n",
        "\n",
        "X_val,Y_val = test_data_iter.next()\n",
        "\n",
        "Y_pred = model.predict(X_val)\n",
        "\n",
        "misclassified_idx = []\n",
        "\n",
        "for i in range(len(Y_val)):\n",
        "  if np.argmax(Y_val[i])!= np.argmax(Y_pred[i]):\n",
        "    misclassified_idx.append(i)\n",
        "\n",
        "plt_idx = np.random.choice(misclassified_idx, 25)\n",
        "fig, ax = plt.subplots(5,5,figsize = (10,10))\n",
        "fig.tight_layout()\n",
        "fig.suptitle('Misclassified Images')\n",
        "plt.subplots_adjust(left=None, bottom=None, right=None, top=0.92, wspace=None, hspace=None)\n",
        "k = 0\n",
        "for i in range(5):\n",
        "  for j in range(5):\n",
        "    img = X_val[plt_idx[k]].reshape(28,28)\n",
        "    pred = np.argmax(Y_pred[plt_idx[k]])\n",
        "    ax[i,j].set_xticklabels([])\n",
        "    ax[i,j].set_yticklabels([])\n",
        "    ax[i,j].imshow(img)\n",
        "    ax[i,j].set_title(\"Prediction : {}\".format(pred))\n",
        "    k += 1\n",
        "\n",
        "#print(ax.shape)"
      ],
      "execution_count": 0,
      "outputs": [
        {
          "output_type": "stream",
          "text": [
            "/usr/local/lib/python3.6/dist-packages/ipykernel_launcher.py:5: UserWarning: Update your `Conv2D` call to the Keras 2 API: `Conv2D(8, (3, 3), input_shape=(28, 28, 1..., use_bias=False)`\n",
            "  \"\"\"\n",
            "/usr/local/lib/python3.6/dist-packages/ipykernel_launcher.py:11: UserWarning: Update your `Conv2D` call to the Keras 2 API: `Conv2D(16, (3, 3), use_bias=False)`\n",
            "  # This is added back by InteractiveShellApp.init_path()\n",
            "/usr/local/lib/python3.6/dist-packages/ipykernel_launcher.py:17: UserWarning: Update your `Conv2D` call to the Keras 2 API: `Conv2D(24, (3, 3), use_bias=False)`\n",
            "/usr/local/lib/python3.6/dist-packages/ipykernel_launcher.py:25: UserWarning: Update your `Conv2D` call to the Keras 2 API: `Conv2D(8, (1, 1), use_bias=False)`\n",
            "/usr/local/lib/python3.6/dist-packages/ipykernel_launcher.py:31: UserWarning: Update your `Conv2D` call to the Keras 2 API: `Conv2D(8, (3, 3), use_bias=False)`\n",
            "/usr/local/lib/python3.6/dist-packages/ipykernel_launcher.py:37: UserWarning: Update your `Conv2D` call to the Keras 2 API: `Conv2D(12, (3, 3), use_bias=False)`\n",
            "/usr/local/lib/python3.6/dist-packages/ipykernel_launcher.py:43: UserWarning: Update your `Conv2D` call to the Keras 2 API: `Conv2D(24, (3, 3), use_bias=False)`\n",
            "/usr/local/lib/python3.6/dist-packages/ipykernel_launcher.py:49: UserWarning: Update your `Conv2D` call to the Keras 2 API: `Conv2D(16, (3, 3), use_bias=False)`\n",
            "/usr/local/lib/python3.6/dist-packages/ipykernel_launcher.py:55: UserWarning: Update your `Conv2D` call to the Keras 2 API: `Conv2D(10, (3, 3), use_bias=False)`\n"
          ],
          "name": "stderr"
        },
        {
          "output_type": "display_data",
          "data": {
            "image/png": "[encoded data removed]",
            "text/plain": [
              "<Figure size 720x720 with 25 Axes>"
            ]
          },
          "metadata": {
            "tags": []
          }
        }
      ]
    }
  ]
}