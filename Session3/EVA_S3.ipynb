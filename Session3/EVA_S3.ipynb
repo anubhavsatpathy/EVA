{
  "nbformat": 4,
  "nbformat_minor": 0,
  "metadata": {
    "colab": {
      "name": "1st DNN.ipynb",
      "version": "0.3.2",
      "provenance": [],
      "collapsed_sections": [],
      "include_colab_link": true
    },
    "kernelspec": {
      "name": "python3",
      "display_name": "Python 3"
    },
    "accelerator": "GPU"
  },
  "cells": [
    {
      "cell_type": "markdown",
      "metadata": {
        "id": "view-in-github",
        "colab_type": "text"
      },
      "source": [
        "<a href=\"https://colab.research.google.com/github/anubhavsatpathy/EVA/blob/master/Session3/EVA_S3.ipynb\" target=\"_parent\"><img src=\"https://colab.research.google.com/assets/colab-badge.svg\" alt=\"Open In Colab\"/></a>"
      ]
    },
    {
      "cell_type": "markdown",
      "metadata": {
        "id": "aNyZv-Ec52ot",
        "colab_type": "text"
      },
      "source": [
        "# **Import Libraries and modules**"
      ]
    },
    {
      "cell_type": "markdown",
      "metadata": {
        "id": "cUITO6oNmwOj",
        "colab_type": "text"
      },
      "source": [
        "###Goal of this Assignment:\n",
        "\n",
        "This is an assignment wherein we have been assigned a very clear objective for our model:\n",
        "\n",
        "*Acheive at least 99.40 % validation accuracy on the MNIST dataset digit classification task*\n",
        "\n",
        "To make our tasks resemble the real world better - we have been given two constraints to respect while going about acheiving this goal:\n",
        "\n",
        "- *Do not use more that 20K trainable parameters*\n",
        "- *Do not train the model for more than 15 epochs*\n",
        "- *Do not use regularization techniques like Dropout or even LI, L2 regularization*"
      ]
    },
    {
      "cell_type": "markdown",
      "metadata": {
        "id": "eA6pw8zan2kU",
        "colab_type": "text"
      },
      "source": [
        "###Installing Keras\n",
        "\n",
        "The cell below does the following:\n",
        "\n",
        "- It issues a **shell command** to install the keras module into the python environment that this notebook is supposed to run in\n",
        "- It imports the keras module into the program written in this notebook\n",
        "\n",
        "For a more detailed explanation of these processes - please refer to [this notebook](https://github.com/anubhavsatpathy/EVA/blob/master/Session2/EVA_Session2.ipynb)"
      ]
    },
    {
      "cell_type": "code",
      "metadata": {
        "id": "3m3w1Cw49Zkt",
        "colab_type": "code",
        "colab": {
          "base_uri": "https://localhost:8080/",
          "height": 34
        },
        "outputId": "1857de25-f666-416a-e718-ae8dc7b543c9"
      },
      "source": [
        "# https://keras.io/\n",
        "!pip install -q keras\n",
        "import keras"
      ],
      "execution_count": 1,
      "outputs": [
        {
          "output_type": "stream",
          "text": [
            "Using TensorFlow backend.\n"
          ],
          "name": "stderr"
        }
      ]
    },
    {
      "cell_type": "markdown",
      "metadata": {
        "id": "geD94OTVoV9D",
        "colab_type": "text"
      },
      "source": [
        "### Importing our modules\n",
        "\n",
        "In the cell below - we import the modules, classes and methods that we will use throughout this notebook. Each of these imports have a soecific purpose that has been clearly defined [here](https://github.com/anubhavsatpathy/EVA/blob/master/Session2/EVA_Session2.ipynb)\n",
        "\n",
        "- **ImageDataGenerator** : This is a class defined within keras that helps us transform our images so as to reduce the odds of overfitting while training - We will cover this in more detail later in this notebook ([Documentation](https://keras.io/preprocessing/image/))\n"
      ]
    },
    {
      "cell_type": "code",
      "metadata": {
        "id": "Eso6UHE080D4",
        "colab_type": "code",
        "colab": {}
      },
      "source": [
        "import numpy as np\n",
        "\n",
        "from keras.models import Sequential\n",
        "from keras.layers import Dense, Dropout, Activation, Flatten, Add\n",
        "from keras.layers import Convolution2D, MaxPooling2D\n",
        "from keras.preprocessing.image import ImageDataGenerator\n",
        "from keras.utils import np_utils\n",
        "\n",
        "from keras.datasets import mnist"
      ],
      "execution_count": 0,
      "outputs": []
    },
    {
      "cell_type": "markdown",
      "metadata": {
        "id": "zByEi95J86RD",
        "colab_type": "text"
      },
      "source": [
        "### Load pre-shuffled MNIST data into train and test sets"
      ]
    },
    {
      "cell_type": "markdown",
      "metadata": {
        "id": "OFqRnJhLprz_",
        "colab_type": "text"
      },
      "source": [
        "The code below loads the images and labels belonging to the mnist dataset into numpy arrays. Well, it's actually not all that simple. To appreciate what the *mnist.load_data()* method has abstracted away - let's dig a little deeper:\n",
        "\n",
        "- **Download the data** : For one, the actual files containing the images and the labels are not in the system where this program is running.  The method actually takes an argument called *PATH* that is by default an empty string. It looks up the system at <~/keras/datasets/ + PATH> for the image and label files and if not found it downloads them from the internet and stores them at that location. All non-existent directories are created on the go.\n",
        "\n",
        "- **Convert images to arrays** : Well what gets downloaded is a *.npz* file - this is numpys way of storing arrays encountered during the runtime as tar.gz files. NumPy provides I/O utilities for these kind of files. Hence, after downloading the .npz files the method loads them into the runtime as numpy arrays\n",
        "\n",
        "- **Returns the arrays** : The arrays thus loaded of shapes X_train(60000, 28, 28), y_train(60000), X_test(10000, 28, 28) and y_test(10000) are packed in tuples as ((X_train, y_train),(X_test,y_test)) and returned from the method \n",
        "\n",
        "Take note of the word **Pre Shuffled** - This reduces our headache a little bit since it means we can generate batches sequentially and pass it to our model for training. It is necessary to shuffle your dataset to avoid biases while updating the weights of your network"
      ]
    },
    {
      "cell_type": "code",
      "metadata": {
        "id": "7eRM0QWN83PV",
        "colab_type": "code",
        "outputId": "08a39a9d-282c-420f-c190-20c293aade25",
        "colab": {
          "base_uri": "https://localhost:8080/",
          "height": 52
        }
      },
      "source": [
        "(X_train, y_train), (X_test, y_test) = mnist.load_data()"
      ],
      "execution_count": 3,
      "outputs": [
        {
          "output_type": "stream",
          "text": [
            "Downloading data from https://s3.amazonaws.com/img-datasets/mnist.npz\n",
            "11493376/11490434 [==============================] - 2s 0us/step\n"
          ],
          "name": "stdout"
        }
      ]
    },
    {
      "cell_type": "markdown",
      "metadata": {
        "id": "3JOId1d3qQsb",
        "colab_type": "text"
      },
      "source": [
        "The code below does the following:\n",
        "\n",
        "- **Printing the shape of the training images** : X_train.shape prints out the shape of the numpy ND array X_train. A shape is a property of a numpy ND array object that packs the lengths of each of it's dimentions into a tuple. In this case, the shape is *(60000, 28, 28)* standing for *(batch_size, height, width)*\n",
        "\n",
        "- **Imports matplotlib.pyplot** : This is a plotting module used with python to plot graphs, summary plots, images and what have you.\n",
        "\n",
        "- **Plots the first example of the training set** : Here the code uses *matplotlib.pyplot.imshow()* method to plot the 0th element of X_train which is the first training image.\n",
        "\n",
        "*PS : %matplotlin inline is a rendering directive to matplotlib to use the console to print the plot and not a separate window*"
      ]
    },
    {
      "cell_type": "code",
      "metadata": {
        "id": "4a4Be72j8-ZC",
        "colab_type": "code",
        "outputId": "130d0d4a-a0f6-49ca-a4ac-45d1361f53c2",
        "colab": {
          "base_uri": "https://localhost:8080/",
          "height": 304
        }
      },
      "source": [
        "print (X_train.shape)\n",
        "from matplotlib import pyplot as plt\n",
        "%matplotlib inline\n",
        "plt.imshow(X_train[0])"
      ],
      "execution_count": 4,
      "outputs": [
        {
          "output_type": "stream",
          "text": [
            "(60000, 28, 28)\n"
          ],
          "name": "stdout"
        },
        {
          "output_type": "execute_result",
          "data": {
            "text/plain": [
              "<matplotlib.image.AxesImage at 0x7f07c959ff28>"
            ]
          },
          "metadata": {
            "tags": []
          },
          "execution_count": 4
        },
        {
          "output_type": "display_data",
          "data": {
            "image/png": "[encoded data removed]",
            "text/plain": [
              "<Figure size 432x288 with 1 Axes>"
            ]
          },
          "metadata": {
            "tags": []
          }
        }
      ]
    },
    {
      "cell_type": "markdown",
      "metadata": {
        "id": "EI92ebPEqb2r",
        "colab_type": "text"
      },
      "source": [
        "The code below simply reshapes the train and test sets of images - variables named *X_train* and *X_test* respectively. Why?\n",
        "\n",
        "Well it so happens that under the hood the *Convolution2D* layer that we imported earlier calls the tensorflow.nn.conv2D() method to create a convolution operation node in the computational graph on the network.\n",
        "\n",
        "[This operation](https://www.tensorflow.org/api_docs/python/tf/nn/conv2d) takes an argument called data_format which defaults to *'NHCW'* - meaning that the inoput is expected in the shape *[batch_size, height, width, num_channels]*\n",
        "\n",
        "Since mnist Images are greyscale - they contain only one color channel which we make explicit when reshaping X_train and X_test to *(train/test_set_size, 28, 28, 1)*\n",
        "\n",
        "- X_train[0] --> train_set_size\n",
        "- X-test[0] --> test_set_size "
      ]
    },
    {
      "cell_type": "code",
      "metadata": {
        "id": "dkmprriw9AnZ",
        "colab_type": "code",
        "colab": {}
      },
      "source": [
        "X_train = X_train.reshape(X_train.shape[0], 28, 28,1)\n",
        "X_test = X_test.reshape(X_test.shape[0], 28, 28,1)"
      ],
      "execution_count": 0,
      "outputs": []
    },
    {
      "cell_type": "markdown",
      "metadata": {
        "id": "wH32JKpkqlcs",
        "colab_type": "text"
      },
      "source": [
        "The code below performs the following actions:\n",
        "\n",
        "###Type Conversion\n",
        "\n",
        "X_train and X_test are currently of type *numpy.uint8* which is a numpy wrapper over the unsigned 4-byte integer python datatype. We convert them to *numpy.float32*\n",
        "\n",
        "###Input Scaling\n",
        "\n",
        "Okay then .. why scale at all? Well think of it this way the *SGD* algorithm used to train neural networks uses the gradient of the loss w.r.t the kernels to train / update them for the next batch. Therefore, the delta in the kernel values would be proportional to the gradients which in turn would be a function of the input values"
      ]
    },
    {
      "cell_type": "code",
      "metadata": {
        "id": "X2m4YS4E9CRh",
        "colab_type": "code",
        "colab": {}
      },
      "source": [
        "X_train = X_train.astype('float32')\n",
        "X_test = X_test.astype('float32')\n",
        "X_train /= 255\n",
        "X_test /= 255"
      ],
      "execution_count": 0,
      "outputs": []
    },
    {
      "cell_type": "markdown",
      "metadata": {
        "id": "tbcrQlM9q5DC",
        "colab_type": "text"
      },
      "source": [
        "The code below prints the first ten labels contained in the y_train array. They represent the labels for the first 10 images of the train set"
      ]
    },
    {
      "cell_type": "code",
      "metadata": {
        "id": "0Mn0vAYD9DvB",
        "colab_type": "code",
        "outputId": "72baea47-b94a-4f91-e6a6-07b0a341d301",
        "colab": {
          "base_uri": "https://localhost:8080/",
          "height": 34
        }
      },
      "source": [
        "y_train[:10]"
      ],
      "execution_count": 7,
      "outputs": [
        {
          "output_type": "execute_result",
          "data": {
            "text/plain": [
              "array([5, 0, 4, 1, 9, 2, 1, 3, 1, 4], dtype=uint8)"
            ]
          },
          "metadata": {
            "tags": []
          },
          "execution_count": 7
        }
      ]
    },
    {
      "cell_type": "markdown",
      "metadata": {
        "id": "Tp3gRb6wrA9_",
        "colab_type": "text"
      },
      "source": [
        "###One-Hot encoding of labels\n",
        "\n",
        "The code below converts our train and test labels to their respective one-hot forms. Details about this encoding can be found [here](https://github.com/anubhavsatpathy/EVA/blob/master/Session2/EVA_Session2.ipynb)"
      ]
    },
    {
      "cell_type": "code",
      "metadata": {
        "id": "ZG8JiXR39FHC",
        "colab_type": "code",
        "colab": {}
      },
      "source": [
        "# Convert 1-dimensional class arrays to 10-dimensional class matrices\n",
        "Y_train = np_utils.to_categorical(y_train, 10)\n",
        "Y_test = np_utils.to_categorical(y_test, 10)"
      ],
      "execution_count": 0,
      "outputs": []
    },
    {
      "cell_type": "code",
      "metadata": {
        "id": "fYlFRvKS9HMB",
        "colab_type": "code",
        "outputId": "89a7f459-f68c-4aed-834a-ce74f2481d64",
        "colab": {
          "base_uri": "https://localhost:8080/",
          "height": 191
        }
      },
      "source": [
        "Y_train[:10]\n"
      ],
      "execution_count": 9,
      "outputs": [
        {
          "output_type": "execute_result",
          "data": {
            "text/plain": [
              "array([[0., 0., 0., 0., 0., 1., 0., 0., 0., 0.],\n",
              "       [1., 0., 0., 0., 0., 0., 0., 0., 0., 0.],\n",
              "       [0., 0., 0., 0., 1., 0., 0., 0., 0., 0.],\n",
              "       [0., 1., 0., 0., 0., 0., 0., 0., 0., 0.],\n",
              "       [0., 0., 0., 0., 0., 0., 0., 0., 0., 1.],\n",
              "       [0., 0., 1., 0., 0., 0., 0., 0., 0., 0.],\n",
              "       [0., 1., 0., 0., 0., 0., 0., 0., 0., 0.],\n",
              "       [0., 0., 0., 1., 0., 0., 0., 0., 0., 0.],\n",
              "       [0., 1., 0., 0., 0., 0., 0., 0., 0., 0.],\n",
              "       [0., 0., 0., 0., 1., 0., 0., 0., 0., 0.]], dtype=float32)"
            ]
          },
          "metadata": {
            "tags": []
          },
          "execution_count": 9
        }
      ]
    },
    {
      "cell_type": "markdown",
      "metadata": {
        "id": "zVIsGoxGrZ3J",
        "colab_type": "text"
      },
      "source": [
        "### Data Augmentation\n",
        "\n",
        "Now then - this is new! MNIST is a set of 60K images for training and 10K images for validation. Neural networks in general and CNNs in particular require one of two things to learn representations of data that generalize well to the validation set:\n",
        "\n",
        "1. More training\n",
        "2. More learnable parameters\n",
        "3. More and Representative Data\n",
        "\n",
        "Since we are restricted on the first two counts by our constraints we should strive to create a richer dataset for our model to learn from. ImageDataGenerator does exactly that:\n",
        "\n",
        "- **Creating the object** : The *ImageDataGenerator* object takes a few parameters that represent transformations that it would eventually apply to the images that are passed to it These transformations include - **Random Rotation, Random horizontal and vertical shifts, Random Zooming In and Out etc**\n",
        "\n",
        "- **Why transform at all** : Well there is no guarantee that the images in the test set would be exactly like the images in the train set. While training our model it is very important to challenge our model using new images every epoch in order to avoid overfitting. What we acheive by transforming images is that we make our network;s prediction invariant towards these transformations that are inevitable in real life. This is a measure towards making the network more **robust**\n",
        "\n",
        "- **flow()** : The ImageDataGenerator object has a method called flow that takes three parameters - *Training Images(Xs), Training Labels (Ys) and a batch size* - and returns a python generator that yields batch of *batch_size* elements picked from the training images and therafter transformed randomly according to the parameters passed to the ImageDataGenerator obkect\n",
        "\n",
        "- **A python generator** : Think of this as a stateful method that allows you to return (yield) different values by maintaining a local state"
      ]
    },
    {
      "cell_type": "code",
      "metadata": {
        "id": "_L11eJhcc5GB",
        "colab_type": "code",
        "colab": {
          "base_uri": "https://localhost:8080/",
          "height": 304
        },
        "outputId": "67f6b16e-d211-4e29-8dda-6f0a7d5d4ad0"
      },
      "source": [
        "datagen = ImageDataGenerator(rotation_range=10,  \n",
        "                             zoom_range = 0.10,  \n",
        "                             width_shift_range=0.1, \n",
        "                             height_shift_range=0.1)\n",
        "data_iter = datagen.flow(X_train,Y_train, batch_size = 64)\n",
        "batch = data_iter.next()\n",
        "print(\"Training Batch Shape : {}\".format(batch[0].shape))\n",
        "img = batch[0][3].reshape(28,28)\n",
        "label = np.argmax(batch[1][3])\n",
        "print(\"Example of a {}\".format(label))\n",
        "plt.imshow(img)\n",
        "plt.show()"
      ],
      "execution_count": 26,
      "outputs": [
        {
          "output_type": "stream",
          "text": [
            "Training Batch Shape : (64, 28, 28, 1)\n",
            "Example of a 0\n"
          ],
          "name": "stdout"
        },
        {
          "output_type": "display_data",
          "data": {
            "image/png": "[encoded data removed]",
            "text/plain": [
              "<Figure size 432x288 with 1 Axes>"
            ]
          },
          "metadata": {
            "tags": []
          }
        }
      ]
    },
    {
      "cell_type": "markdown",
      "metadata": {
        "id": "O-W5IqL3u4tS",
        "colab_type": "text"
      },
      "source": [
        "### Creating our model\n",
        "\n",
        "Well, as discussed in class - we now try to modularize our model creation into the following steps:\n",
        "\n",
        "- Create a block of Convolution layers of various kernel shapes and out channels\n",
        "- Create a bottleneck block consisting on 2x2 max pooling and 1x1 convolution\n",
        "\n",
        "####Why Modularize??\n",
        "\n",
        "Well discovery of a model architecture is a fairly iterative process and we need an easier way to test our various architectures to discover the best among them - Hence modularization helps\n",
        "\n",
        "**Disclaimer** : This is bad code - It lacks error checking etc and cannot be used by others but it does the trick for us in a short time"
      ]
    },
    {
      "cell_type": "code",
      "metadata": {
        "id": "osKqT73Q9JJB",
        "colab_type": "code",
        "outputId": "9c6124d6-8b69-440d-d4ae-3e8880297003",
        "colab": {
          "base_uri": "https://localhost:8080/",
          "height": 1000
        }
      },
      "source": [
        "from keras.layers import Activation\n",
        "from keras.layers import BatchNormalization\n",
        "\n",
        "IP_SIZE = (28,28,1)\n",
        "\n",
        "def add_conv_layers(layers = [(8,3,3,'relu',(28,28,1),True)], model = Sequential()):\n",
        "  for layer in layers:\n",
        "    if layer[4] is None:\n",
        "      model.add(Convolution2D(layer[0],layer[1],layer[2], activation = layer[3]))\n",
        "    else:\n",
        "      model.add(Convolution2D(layer[0],layer[1],layer[2], activation = layer[3], input_shape = layer[4]))  \n",
        "    \n",
        "    if layer[5]:\n",
        "      model.add(BatchNormalization())\n",
        "      \n",
        "def add_bottlenect(out_channels = 8, model = Sequential()):\n",
        "  model.add(MaxPooling2D((2,2)))\n",
        "  add_conv_layers(layers = [(out_channels,1,1,'relu',None,True)])\n",
        "  model.add(BatchNormalization())\n",
        "  \n",
        "def initiate_model():\n",
        "  return Sequential()\n",
        "  \n",
        "def build_model():\n",
        "  first_conv_block = [\n",
        "                      (8,3,3,'relu',IP_SIZE,True),\n",
        "                      (16,3,3,'relu',None,True),\n",
        "                      (30,3,3,'relu',None,True)\n",
        "                      ]\n",
        "  \n",
        "  second_conv_block = [\n",
        "                       (8,3,3,'relu',None,True),\n",
        "                       (16,3,3,'relu',None,True),\n",
        "                       (32,3,3,'relu',None,True),\n",
        "                       (16,3,3,'relu',None,True),\n",
        "                       (10,3,3,None,None,False)\n",
        "                      ]\n",
        "  model = initiate_model()\n",
        "  add_conv_layers(layers = first_conv_block, model = model)\n",
        "  add_bottlenect(out_channels = 8, model = model)\n",
        "  add_conv_layers(layers = second_conv_block, model = model)\n",
        "  model.add(Flatten())\n",
        "  model.add(Activation('softmax'))\n",
        "  return model\n",
        "\n",
        "model = build_model()\n",
        "model.summary()\n",
        "  \n",
        "\n",
        "\n"
      ],
      "execution_count": 27,
      "outputs": [
        {
          "output_type": "stream",
          "text": [
            "/usr/local/lib/python3.6/dist-packages/ipykernel_launcher.py:11: UserWarning: Update your `Conv2D` call to the Keras 2 API: `Conv2D(8, (3, 3), activation=\"relu\", input_shape=(28, 28, 1...)`\n",
            "  # This is added back by InteractiveShellApp.init_path()\n",
            "/usr/local/lib/python3.6/dist-packages/ipykernel_launcher.py:9: UserWarning: Update your `Conv2D` call to the Keras 2 API: `Conv2D(16, (3, 3), activation=\"relu\")`\n",
            "  if __name__ == '__main__':\n",
            "/usr/local/lib/python3.6/dist-packages/ipykernel_launcher.py:9: UserWarning: Update your `Conv2D` call to the Keras 2 API: `Conv2D(30, (3, 3), activation=\"relu\")`\n",
            "  if __name__ == '__main__':\n",
            "/usr/local/lib/python3.6/dist-packages/ipykernel_launcher.py:9: UserWarning: Update your `Conv2D` call to the Keras 2 API: `Conv2D(8, (1, 1), activation=\"relu\")`\n",
            "  if __name__ == '__main__':\n",
            "/usr/local/lib/python3.6/dist-packages/ipykernel_launcher.py:9: UserWarning: Update your `Conv2D` call to the Keras 2 API: `Conv2D(8, (3, 3), activation=\"relu\")`\n",
            "  if __name__ == '__main__':\n",
            "/usr/local/lib/python3.6/dist-packages/ipykernel_launcher.py:9: UserWarning: Update your `Conv2D` call to the Keras 2 API: `Conv2D(32, (3, 3), activation=\"relu\")`\n",
            "  if __name__ == '__main__':\n"
          ],
          "name": "stderr"
        },
        {
          "output_type": "stream",
          "text": [
            "_________________________________________________________________\n",
            "Layer (type)                 Output Shape              Param #   \n",
            "=================================================================\n",
            "conv2d_46 (Conv2D)           (None, 26, 26, 8)         80        \n",
            "_________________________________________________________________\n",
            "batch_normalization_46 (Batc (None, 26, 26, 8)         32        \n",
            "_________________________________________________________________\n",
            "conv2d_47 (Conv2D)           (None, 24, 24, 16)        1168      \n",
            "_________________________________________________________________\n",
            "batch_normalization_47 (Batc (None, 24, 24, 16)        64        \n",
            "_________________________________________________________________\n",
            "conv2d_48 (Conv2D)           (None, 22, 22, 30)        4350      \n",
            "_________________________________________________________________\n",
            "batch_normalization_48 (Batc (None, 22, 22, 30)        120       \n",
            "_________________________________________________________________\n",
            "max_pooling2d_6 (MaxPooling2 (None, 11, 11, 30)        0         \n",
            "_________________________________________________________________\n",
            "batch_normalization_50 (Batc (None, 11, 11, 30)        120       \n",
            "_________________________________________________________________\n",
            "conv2d_50 (Conv2D)           (None, 9, 9, 8)           2168      \n",
            "_________________________________________________________________\n",
            "batch_normalization_51 (Batc (None, 9, 9, 8)           32        \n",
            "_________________________________________________________________\n",
            "conv2d_51 (Conv2D)           (None, 7, 7, 16)          1168      \n",
            "_________________________________________________________________\n",
            "batch_normalization_52 (Batc (None, 7, 7, 16)          64        \n",
            "_________________________________________________________________\n",
            "conv2d_52 (Conv2D)           (None, 5, 5, 32)          4640      \n",
            "_________________________________________________________________\n",
            "batch_normalization_53 (Batc (None, 5, 5, 32)          128       \n",
            "_________________________________________________________________\n",
            "conv2d_53 (Conv2D)           (None, 3, 3, 16)          4624      \n",
            "_________________________________________________________________\n",
            "batch_normalization_54 (Batc (None, 3, 3, 16)          64        \n",
            "_________________________________________________________________\n",
            "conv2d_54 (Conv2D)           (None, 1, 1, 10)          1450      \n",
            "_________________________________________________________________\n",
            "flatten_6 (Flatten)          (None, 10)                0         \n",
            "_________________________________________________________________\n",
            "activation_6 (Activation)    (None, 10)                0         \n",
            "=================================================================\n",
            "Total params: 20,272\n",
            "Trainable params: 19,960\n",
            "Non-trainable params: 312\n",
            "_________________________________________________________________\n"
          ],
          "name": "stdout"
        },
        {
          "output_type": "stream",
          "text": [
            "/usr/local/lib/python3.6/dist-packages/ipykernel_launcher.py:9: UserWarning: Update your `Conv2D` call to the Keras 2 API: `Conv2D(10, (3, 3), activation=None)`\n",
            "  if __name__ == '__main__':\n"
          ],
          "name": "stderr"
        }
      ]
    },
    {
      "cell_type": "markdown",
      "metadata": {
        "id": "7aFbdaiOw79W",
        "colab_type": "text"
      },
      "source": [
        "### Compiling the model:\n",
        "\n",
        "Compiling the model means that keras will actually create the computational graph using tensorflow backend. For this to happen, we need to provide a loss function and an optimizer and an accuracy metric. We define this as below:\n",
        "\n",
        "- **Loss Function** : A loss function is a mathematical function that calculates some sort of differentiable distance measure between the network's output and the actual output for each class. During training, we average out these losses and backpropagate them through the network. In this case - we use categorical cross-entropy\n",
        "\n",
        "- **Optimizer** : This step selects an optimizer algorithm that manipulates the learning rate per time-step so as to update the weights in a manner that does not lead to a swinging behaviour around the minimum. A few examples are *AdaGrad, Momentum etc*. but *Adam* has long been established as the king of the jungle\n",
        "\n",
        "- **Accuracy Metric** : This is a metric that measures the performance of the network. In the case of classification this is accuracy *(i.e. number_of_correct_predictions / number_of_total_examples_in_batch)*. Well there are other measures as well like BLEU score in case of machine translation etc."
      ]
    },
    {
      "cell_type": "code",
      "metadata": {
        "id": "Zp6SuGrL9M3h",
        "colab_type": "code",
        "colab": {}
      },
      "source": [
        "model.compile(loss='categorical_crossentropy',\n",
        "             optimizer='adam',\n",
        "             metrics=['accuracy'])"
      ],
      "execution_count": 0,
      "outputs": []
    },
    {
      "cell_type": "markdown",
      "metadata": {
        "id": "mvtruee4w-Sp",
        "colab_type": "text"
      },
      "source": [
        "### Training our model:\n",
        "\n",
        "Again - We dont **model.fit()** any more - Why not?\n",
        "\n",
        "Well if we model.fit() we have no way to check if we reached the prescribed accuracy mark after each epoch - hence we may miss out on the best model and end up overfitting at end of the 15 permissible epochs\n",
        "\n",
        "- **Generate the batch** : We generate the batch of images by calling next() on the generator we discussed above and we generate 6000 such batches per epoch with a batch size of 64 that results in a sample of 384000 training examples - WE JUST INFLATED OUR TRAINING SET BY OVER 6 TIMES\n",
        "\n",
        "- **Train on the batch** : We pass the generated batch through our network - and backpropagateto update the weights\n",
        "\n",
        "- **Break Out** : We check for validation accuracy after each epoch and stop training onve we have acheived the desired accuracy\n",
        "\n",
        "Well - I should probably have used keras callbacks instead of this I did not want to get ahead of myself here"
      ]
    },
    {
      "cell_type": "code",
      "metadata": {
        "id": "4xWoKhPY9Of5",
        "colab_type": "code",
        "outputId": "096c70db-3eec-46e6-e630-86065fa59980",
        "colab": {
          "base_uri": "https://localhost:8080/",
          "height": 173
        }
      },
      "source": [
        "NUM_EPOCHS = 15\n",
        "BATCHES_PER_EPOCH = 6000\n",
        "\n",
        "for epoch in range(NUM_EPOCHS):\n",
        "  for bat in range(BATCHES_PER_EPOCH):\n",
        "    batch = data_iter.next()\n",
        "    images = batch[0]\n",
        "    labels = batch[1]\n",
        "    model.train_on_batch(images, labels)\n",
        "  score = model.evaluate(X_test, Y_test, verbose=0)[1]\n",
        "  print(\"Validation Accuracy after epoch {} is {}\".format(epoch + 1,score*100))\n",
        "  if score >= 0.994:\n",
        "    print(\"Mission Accomplished\")\n",
        "    break"
      ],
      "execution_count": 29,
      "outputs": [
        {
          "output_type": "stream",
          "text": [
            "Validation Accuracy after epoch 1 is 98.82\n",
            "Validation Accuracy after epoch 2 is 98.98\n",
            "Validation Accuracy after epoch 3 is 99.35000000000001\n",
            "Validation Accuracy after epoch 4 is 99.33999999999999\n",
            "Validation Accuracy after epoch 5 is 99.03\n",
            "Validation Accuracy after epoch 6 is 99.31\n",
            "Validation Accuracy after epoch 7 is 99.35000000000001\n",
            "Validation Accuracy after epoch 8 is 99.46000000000001\n",
            "Mission Accomplished\n"
          ],
          "name": "stdout"
        }
      ]
    },
    {
      "cell_type": "code",
      "metadata": {
        "id": "AtsH-lLk-eLb",
        "colab_type": "code",
        "colab": {}
      },
      "source": [
        "score = model.evaluate(X_test, Y_test, verbose=0)"
      ],
      "execution_count": 0,
      "outputs": []
    },
    {
      "cell_type": "code",
      "metadata": {
        "id": "mkX8JMv79q9r",
        "colab_type": "code",
        "outputId": "3cc46c4b-6d08-4b0f-c335-e9006875f7a4",
        "colab": {
          "base_uri": "https://localhost:8080/",
          "height": 34
        }
      },
      "source": [
        "print(score)"
      ],
      "execution_count": 31,
      "outputs": [
        {
          "output_type": "stream",
          "text": [
            "[0.01779608988924592, 0.9946]\n"
          ],
          "name": "stdout"
        }
      ]
    },
    {
      "cell_type": "code",
      "metadata": {
        "id": "OCWoJkwE9suh",
        "colab_type": "code",
        "colab": {}
      },
      "source": [
        "y_pred = model.predict(X_test)"
      ],
      "execution_count": 0,
      "outputs": []
    },
    {
      "cell_type": "code",
      "metadata": {
        "id": "Ym7iCFBm9uBs",
        "colab_type": "code",
        "outputId": "12289312-88d1-4cf7-9b3a-bc7b1695005c",
        "colab": {
          "base_uri": "https://localhost:8080/",
          "height": 503
        }
      },
      "source": [
        "print(y_pred[:9])\n",
        "print(y_test[:9])"
      ],
      "execution_count": 33,
      "outputs": [
        {
          "output_type": "stream",
          "text": [
            "[[6.46006859e-11 3.04843184e-07 2.28892459e-04 9.29456746e-06\n",
            "  4.16075409e-06 1.69999161e-08 1.34760469e-07 9.99755085e-01\n",
            "  5.20063793e-07 1.65892413e-06]\n",
            " [6.59233057e-10 5.16599073e-07 9.99998212e-01 2.50815968e-09\n",
            "  1.05748832e-08 2.77483841e-10 2.14241496e-07 4.29423267e-07\n",
            "  6.53946643e-07 1.43275614e-08]\n",
            " [1.72257572e-07 9.99975324e-01 1.42664433e-07 6.93688440e-09\n",
            "  2.34889740e-07 7.08253879e-07 1.55017133e-05 6.24915356e-06\n",
            "  6.86874060e-08 1.70042790e-06]\n",
            " [9.98951793e-01 1.76958252e-08 6.16295847e-06 2.40117356e-06\n",
            "  4.36800207e-07 5.07844163e-07 6.75794668e-04 1.92202435e-07\n",
            "  3.49677051e-04 1.30002327e-05]\n",
            " [1.46309020e-10 8.72120793e-08 5.19890186e-10 2.25797292e-09\n",
            "  9.99992251e-01 1.14829541e-08 1.61534814e-07 1.20013226e-08\n",
            "  3.86730790e-06 3.62222022e-06]\n",
            " [4.12398045e-08 9.99994874e-01 6.91881130e-09 1.56241642e-09\n",
            "  3.14221779e-07 2.06411357e-07 1.92460675e-06 9.67379265e-07\n",
            "  4.20216004e-08 1.59232627e-06]\n",
            " [5.45002724e-11 7.33009472e-07 1.76003892e-10 3.71289222e-10\n",
            "  9.99979973e-01 7.15238571e-08 1.74129156e-08 1.83954342e-07\n",
            "  1.09181165e-07 1.88974791e-05]\n",
            " [1.21496623e-06 2.23816585e-07 6.48796995e-05 3.60416425e-06\n",
            "  3.42196814e-04 2.26524526e-06 1.23561722e-06 1.20221112e-05\n",
            "  7.57782254e-05 9.99496579e-01]\n",
            " [1.00531707e-07 2.05963161e-07 1.28790523e-09 2.41024168e-07\n",
            "  3.52390970e-08 9.99843955e-01 1.10545516e-04 3.49257405e-08\n",
            "  4.35725597e-05 1.30120600e-06]]\n",
            "[7 2 1 0 4 1 4 9 5]\n"
          ],
          "name": "stdout"
        }
      ]
    },
    {
      "cell_type": "markdown",
      "metadata": {
        "id": "gKtnEopvzhY1",
        "colab_type": "text"
      },
      "source": [
        "### Seeing like the kernels\n",
        "\n",
        "- **Serializing the layers** : model.layers() returns a flattened list of layer objects in the same sequence as they were added to the model. layer.name returns the name of that layer that we see when we print model.summary(). Think of name as a member variable of each layer object. We iterate over each of these layer objects and create a dictionary that stores the layers in the format {layer_name : layer_obj_reference}\n",
        "\n",
        "- **layer.output** : Each layers stores its last output in a property called layer.output as a 4D tensor of shape (bat_size, k_height, k_width, num_channels)\n",
        "\n",
        "- **Keras Backend** : These are a set of functions that provide abstractions for the mathematical operations that backends like tensorflow, theano etc. support - You can use this to create tf graphs under the hood - That is exactly what is done in the lines below that define loss and grads\n",
        "\n",
        "- **Backend.function()** : This is equivalant of sess.run() - It takes inputs that it may pass to the tf graph using the feed_dict parameter and returns the prescribed nodes as numpy arrays\n",
        "\n",
        "- **Update the Image** : Finally we iterate 20 times easch time updating the image so as to maximize our loss which has been set to the n-th filter's activation- Hence - the image becomes what the nth filter extracts!!\n",
        "\n",
        "The rest of the code simply creates a matplotlib grid and prints the images to it\n",
        "\n"
      ]
    },
    {
      "cell_type": "code",
      "metadata": {
        "id": "CT--y98_dr2T",
        "colab_type": "code",
        "colab": {}
      },
      "source": [
        "layer_dict = dict([(layer.name, layer) for layer in model.layers])"
      ],
      "execution_count": 0,
      "outputs": []
    },
    {
      "cell_type": "code",
      "metadata": {
        "id": "2GY4Upv4dsUR",
        "colab_type": "code",
        "outputId": "468e4fc5-f2ab-4649-b822-caf655a25afe",
        "colab": {
          "base_uri": "https://localhost:8080/",
          "height": 837
        }
      },
      "source": [
        "import numpy as np\n",
        "from matplotlib import pyplot as plt\n",
        "from keras import backend as K\n",
        "%matplotlib inline\n",
        "# util function to convert a tensor into a valid image\n",
        "def deprocess_image(x):\n",
        "    # normalize tensor: center on 0., ensure std is 0.1\n",
        "    x -= x.mean()\n",
        "    x /= (x.std() + 1e-5)\n",
        "    x *= 0.1\n",
        "\n",
        "    # clip to [0, 1]\n",
        "    x += 0.5\n",
        "    x = np.clip(x, 0, 1)\n",
        "\n",
        "    # convert to RGB array\n",
        "    x *= 255\n",
        "    #x = x.transpose((1, 2, 0))\n",
        "    x = np.clip(x, 0, 255).astype('uint8')\n",
        "    return x\n",
        "\n",
        "def vis_img_in_filter(img = np.array(X_train[2]).reshape((1, 28, 28, 1)).astype(np.float64), \n",
        "                      layer_name = 'conv2d_48'):\n",
        "    layer_output = layer_dict[layer_name].output\n",
        "    img_ascs = list()\n",
        "    for filter_index in range(layer_output.shape[3]):   #Iterate over the channels of the output\n",
        "        # build a loss function that maximizes the activation\n",
        "        # of the nth filter of the layer considered\n",
        "        loss = K.mean(layer_output[:, :, :, filter_index])   #Since the nth channel of the output is the activation of the nth filter - \n",
        "\n",
        "        # compute the gradient of the input picture wrt this loss\n",
        "        grads = K.gradients(loss, model.input)[0]\n",
        "\n",
        "        # normalization trick: we normalize the gradient\n",
        "        grads /= (K.sqrt(K.mean(K.square(grads))) + 1e-5)\n",
        "\n",
        "        # this function returns the loss and grads given the input picture\n",
        "        iterate = K.function([model.input], [loss, grads])\n",
        "\n",
        "        # step size for gradient ascent\n",
        "        step = 5.\n",
        "\n",
        "        img_asc = np.array(img)\n",
        "        # run gradient ascent for 20 steps\n",
        "        for i in range(20):\n",
        "            loss_value, grads_value = iterate([img_asc])\n",
        "            img_asc += grads_value * step\n",
        "\n",
        "        img_asc = img_asc[0]\n",
        "        img_ascs.append(deprocess_image(img_asc).reshape((28, 28)))\n",
        "        \n",
        "    if layer_output.shape[3] >= 35:\n",
        "        plot_x, plot_y = 6, 6\n",
        "    elif layer_output.shape[3] >= 23:\n",
        "        plot_x, plot_y = 4, 6\n",
        "    elif layer_output.shape[3] >= 11:\n",
        "        plot_x, plot_y = 2, 6\n",
        "    else:\n",
        "        plot_x, plot_y = 1, 2\n",
        "    fig, ax = plt.subplots(plot_x, plot_y, figsize = (12, 12))\n",
        "    ax[0, 0].imshow(img.reshape((28, 28)), cmap = 'gray')\n",
        "    ax[0, 0].set_title('Input image')\n",
        "    fig.suptitle('Input image and %s filters' % (layer_name,))\n",
        "    fig.tight_layout(pad = 0.3, rect = [0, 0, 0.9, 0.9])\n",
        "    for (x, y) in [(i, j) for i in range(plot_x) for j in range(plot_y)]:\n",
        "        if x == 0 and y == 0:\n",
        "            continue\n",
        "        ax[x, y].imshow(img_ascs[x * plot_y + y - 1], cmap = 'gray')\n",
        "        ax[x, y].set_title('filter %d' % (x * plot_y + y - 1))\n",
        "\n",
        "vis_img_in_filter()"
      ],
      "execution_count": 37,
      "outputs": [
        {
          "output_type": "display_data",
          "data": {
            "image/png": "[encoded data removed]",
            "text/plain": [
              "<Figure size 864x864 with 24 Axes>"
            ]
          },
          "metadata": {
            "tags": []
          }
        }
      ]
    },
    {
      "cell_type": "code",
      "metadata": {
        "id": "9tvptcn8dxvp",
        "colab_type": "code",
        "colab": {}
      },
      "source": [
        ""
      ],
      "execution_count": 0,
      "outputs": []
    }
  ]
}